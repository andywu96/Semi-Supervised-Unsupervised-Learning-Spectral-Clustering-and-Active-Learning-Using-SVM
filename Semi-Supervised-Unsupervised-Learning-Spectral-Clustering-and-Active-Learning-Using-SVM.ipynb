{
 "cells": [
  {
   "cell_type": "markdown",
   "metadata": {},
   "source": [
    "<center><h1>DSCI 552 Machine Learning for Data Science HW8</h1></center>\n",
    "<br>\n",
    "<center> <font size=\"4\">Name:Chung Ming Wu</font></center>\n",
    "\n",
    "<center> <font size=\"4\">USC_ID:7703568593</center>\n",
    "    \n",
    "<center> <font size=\"4\">Github_Username:andywu96 </center>"
   ]
  },
  {
   "cell_type": "markdown",
   "metadata": {},
   "source": [
    "## 1. Supervised, Semi-Supervised, and Unsupervised Learning\n",
    "### 1-(a) Download the Breast Cancer Wisconsin (Diagnostic) Data Set from: https://archive.ics.uci.edu/ml/datasets/Breast+Cancer+Wisconsin+%28Diagnostic%29. Download the data in https://archive.ics.uci.edu/ml/machine-learning-databases/breast-cancer-wisconsin/wdbc.data, which has IDs, classes (Benign=B, Malignant=M), and 30 attributes. This data has two output classes."
   ]
  },
  {
   "cell_type": "code",
   "execution_count": 1,
   "metadata": {},
   "outputs": [],
   "source": [
    "import pandas as pd\n",
    "import numpy as np\n",
    "import matplotlib.pyplot as plt"
   ]
  },
  {
   "cell_type": "code",
   "execution_count": 2,
   "metadata": {},
   "outputs": [
    {
     "data": {
      "text/html": [
       "<div>\n",
       "<style scoped>\n",
       "    .dataframe tbody tr th:only-of-type {\n",
       "        vertical-align: middle;\n",
       "    }\n",
       "\n",
       "    .dataframe tbody tr th {\n",
       "        vertical-align: top;\n",
       "    }\n",
       "\n",
       "    .dataframe thead th {\n",
       "        text-align: right;\n",
       "    }\n",
       "</style>\n",
       "<table border=\"1\" class=\"dataframe\">\n",
       "  <thead>\n",
       "    <tr style=\"text-align: right;\">\n",
       "      <th></th>\n",
       "      <th>ID</th>\n",
       "      <th>class</th>\n",
       "      <th>feature1</th>\n",
       "      <th>feature2</th>\n",
       "      <th>feature3</th>\n",
       "      <th>feature4</th>\n",
       "      <th>feature5</th>\n",
       "      <th>feature6</th>\n",
       "      <th>feature7</th>\n",
       "      <th>feature8</th>\n",
       "      <th>...</th>\n",
       "      <th>feature21</th>\n",
       "      <th>feature22</th>\n",
       "      <th>feature23</th>\n",
       "      <th>feature24</th>\n",
       "      <th>feature25</th>\n",
       "      <th>feature26</th>\n",
       "      <th>feature27</th>\n",
       "      <th>feature28</th>\n",
       "      <th>feature29</th>\n",
       "      <th>feature30</th>\n",
       "    </tr>\n",
       "  </thead>\n",
       "  <tbody>\n",
       "    <tr>\n",
       "      <th>0</th>\n",
       "      <td>842302</td>\n",
       "      <td>1</td>\n",
       "      <td>17.99</td>\n",
       "      <td>10.38</td>\n",
       "      <td>122.80</td>\n",
       "      <td>1001.0</td>\n",
       "      <td>0.11840</td>\n",
       "      <td>0.27760</td>\n",
       "      <td>0.30010</td>\n",
       "      <td>0.14710</td>\n",
       "      <td>...</td>\n",
       "      <td>25.380</td>\n",
       "      <td>17.33</td>\n",
       "      <td>184.60</td>\n",
       "      <td>2019.0</td>\n",
       "      <td>0.16220</td>\n",
       "      <td>0.66560</td>\n",
       "      <td>0.7119</td>\n",
       "      <td>0.2654</td>\n",
       "      <td>0.4601</td>\n",
       "      <td>0.11890</td>\n",
       "    </tr>\n",
       "    <tr>\n",
       "      <th>1</th>\n",
       "      <td>842517</td>\n",
       "      <td>1</td>\n",
       "      <td>20.57</td>\n",
       "      <td>17.77</td>\n",
       "      <td>132.90</td>\n",
       "      <td>1326.0</td>\n",
       "      <td>0.08474</td>\n",
       "      <td>0.07864</td>\n",
       "      <td>0.08690</td>\n",
       "      <td>0.07017</td>\n",
       "      <td>...</td>\n",
       "      <td>24.990</td>\n",
       "      <td>23.41</td>\n",
       "      <td>158.80</td>\n",
       "      <td>1956.0</td>\n",
       "      <td>0.12380</td>\n",
       "      <td>0.18660</td>\n",
       "      <td>0.2416</td>\n",
       "      <td>0.1860</td>\n",
       "      <td>0.2750</td>\n",
       "      <td>0.08902</td>\n",
       "    </tr>\n",
       "    <tr>\n",
       "      <th>2</th>\n",
       "      <td>84300903</td>\n",
       "      <td>1</td>\n",
       "      <td>19.69</td>\n",
       "      <td>21.25</td>\n",
       "      <td>130.00</td>\n",
       "      <td>1203.0</td>\n",
       "      <td>0.10960</td>\n",
       "      <td>0.15990</td>\n",
       "      <td>0.19740</td>\n",
       "      <td>0.12790</td>\n",
       "      <td>...</td>\n",
       "      <td>23.570</td>\n",
       "      <td>25.53</td>\n",
       "      <td>152.50</td>\n",
       "      <td>1709.0</td>\n",
       "      <td>0.14440</td>\n",
       "      <td>0.42450</td>\n",
       "      <td>0.4504</td>\n",
       "      <td>0.2430</td>\n",
       "      <td>0.3613</td>\n",
       "      <td>0.08758</td>\n",
       "    </tr>\n",
       "    <tr>\n",
       "      <th>3</th>\n",
       "      <td>84348301</td>\n",
       "      <td>1</td>\n",
       "      <td>11.42</td>\n",
       "      <td>20.38</td>\n",
       "      <td>77.58</td>\n",
       "      <td>386.1</td>\n",
       "      <td>0.14250</td>\n",
       "      <td>0.28390</td>\n",
       "      <td>0.24140</td>\n",
       "      <td>0.10520</td>\n",
       "      <td>...</td>\n",
       "      <td>14.910</td>\n",
       "      <td>26.50</td>\n",
       "      <td>98.87</td>\n",
       "      <td>567.7</td>\n",
       "      <td>0.20980</td>\n",
       "      <td>0.86630</td>\n",
       "      <td>0.6869</td>\n",
       "      <td>0.2575</td>\n",
       "      <td>0.6638</td>\n",
       "      <td>0.17300</td>\n",
       "    </tr>\n",
       "    <tr>\n",
       "      <th>4</th>\n",
       "      <td>84358402</td>\n",
       "      <td>1</td>\n",
       "      <td>20.29</td>\n",
       "      <td>14.34</td>\n",
       "      <td>135.10</td>\n",
       "      <td>1297.0</td>\n",
       "      <td>0.10030</td>\n",
       "      <td>0.13280</td>\n",
       "      <td>0.19800</td>\n",
       "      <td>0.10430</td>\n",
       "      <td>...</td>\n",
       "      <td>22.540</td>\n",
       "      <td>16.67</td>\n",
       "      <td>152.20</td>\n",
       "      <td>1575.0</td>\n",
       "      <td>0.13740</td>\n",
       "      <td>0.20500</td>\n",
       "      <td>0.4000</td>\n",
       "      <td>0.1625</td>\n",
       "      <td>0.2364</td>\n",
       "      <td>0.07678</td>\n",
       "    </tr>\n",
       "    <tr>\n",
       "      <th>...</th>\n",
       "      <td>...</td>\n",
       "      <td>...</td>\n",
       "      <td>...</td>\n",
       "      <td>...</td>\n",
       "      <td>...</td>\n",
       "      <td>...</td>\n",
       "      <td>...</td>\n",
       "      <td>...</td>\n",
       "      <td>...</td>\n",
       "      <td>...</td>\n",
       "      <td>...</td>\n",
       "      <td>...</td>\n",
       "      <td>...</td>\n",
       "      <td>...</td>\n",
       "      <td>...</td>\n",
       "      <td>...</td>\n",
       "      <td>...</td>\n",
       "      <td>...</td>\n",
       "      <td>...</td>\n",
       "      <td>...</td>\n",
       "      <td>...</td>\n",
       "    </tr>\n",
       "    <tr>\n",
       "      <th>564</th>\n",
       "      <td>926424</td>\n",
       "      <td>1</td>\n",
       "      <td>21.56</td>\n",
       "      <td>22.39</td>\n",
       "      <td>142.00</td>\n",
       "      <td>1479.0</td>\n",
       "      <td>0.11100</td>\n",
       "      <td>0.11590</td>\n",
       "      <td>0.24390</td>\n",
       "      <td>0.13890</td>\n",
       "      <td>...</td>\n",
       "      <td>25.450</td>\n",
       "      <td>26.40</td>\n",
       "      <td>166.10</td>\n",
       "      <td>2027.0</td>\n",
       "      <td>0.14100</td>\n",
       "      <td>0.21130</td>\n",
       "      <td>0.4107</td>\n",
       "      <td>0.2216</td>\n",
       "      <td>0.2060</td>\n",
       "      <td>0.07115</td>\n",
       "    </tr>\n",
       "    <tr>\n",
       "      <th>565</th>\n",
       "      <td>926682</td>\n",
       "      <td>1</td>\n",
       "      <td>20.13</td>\n",
       "      <td>28.25</td>\n",
       "      <td>131.20</td>\n",
       "      <td>1261.0</td>\n",
       "      <td>0.09780</td>\n",
       "      <td>0.10340</td>\n",
       "      <td>0.14400</td>\n",
       "      <td>0.09791</td>\n",
       "      <td>...</td>\n",
       "      <td>23.690</td>\n",
       "      <td>38.25</td>\n",
       "      <td>155.00</td>\n",
       "      <td>1731.0</td>\n",
       "      <td>0.11660</td>\n",
       "      <td>0.19220</td>\n",
       "      <td>0.3215</td>\n",
       "      <td>0.1628</td>\n",
       "      <td>0.2572</td>\n",
       "      <td>0.06637</td>\n",
       "    </tr>\n",
       "    <tr>\n",
       "      <th>566</th>\n",
       "      <td>926954</td>\n",
       "      <td>1</td>\n",
       "      <td>16.60</td>\n",
       "      <td>28.08</td>\n",
       "      <td>108.30</td>\n",
       "      <td>858.1</td>\n",
       "      <td>0.08455</td>\n",
       "      <td>0.10230</td>\n",
       "      <td>0.09251</td>\n",
       "      <td>0.05302</td>\n",
       "      <td>...</td>\n",
       "      <td>18.980</td>\n",
       "      <td>34.12</td>\n",
       "      <td>126.70</td>\n",
       "      <td>1124.0</td>\n",
       "      <td>0.11390</td>\n",
       "      <td>0.30940</td>\n",
       "      <td>0.3403</td>\n",
       "      <td>0.1418</td>\n",
       "      <td>0.2218</td>\n",
       "      <td>0.07820</td>\n",
       "    </tr>\n",
       "    <tr>\n",
       "      <th>567</th>\n",
       "      <td>927241</td>\n",
       "      <td>1</td>\n",
       "      <td>20.60</td>\n",
       "      <td>29.33</td>\n",
       "      <td>140.10</td>\n",
       "      <td>1265.0</td>\n",
       "      <td>0.11780</td>\n",
       "      <td>0.27700</td>\n",
       "      <td>0.35140</td>\n",
       "      <td>0.15200</td>\n",
       "      <td>...</td>\n",
       "      <td>25.740</td>\n",
       "      <td>39.42</td>\n",
       "      <td>184.60</td>\n",
       "      <td>1821.0</td>\n",
       "      <td>0.16500</td>\n",
       "      <td>0.86810</td>\n",
       "      <td>0.9387</td>\n",
       "      <td>0.2650</td>\n",
       "      <td>0.4087</td>\n",
       "      <td>0.12400</td>\n",
       "    </tr>\n",
       "    <tr>\n",
       "      <th>568</th>\n",
       "      <td>92751</td>\n",
       "      <td>0</td>\n",
       "      <td>7.76</td>\n",
       "      <td>24.54</td>\n",
       "      <td>47.92</td>\n",
       "      <td>181.0</td>\n",
       "      <td>0.05263</td>\n",
       "      <td>0.04362</td>\n",
       "      <td>0.00000</td>\n",
       "      <td>0.00000</td>\n",
       "      <td>...</td>\n",
       "      <td>9.456</td>\n",
       "      <td>30.37</td>\n",
       "      <td>59.16</td>\n",
       "      <td>268.6</td>\n",
       "      <td>0.08996</td>\n",
       "      <td>0.06444</td>\n",
       "      <td>0.0000</td>\n",
       "      <td>0.0000</td>\n",
       "      <td>0.2871</td>\n",
       "      <td>0.07039</td>\n",
       "    </tr>\n",
       "  </tbody>\n",
       "</table>\n",
       "<p>569 rows × 32 columns</p>\n",
       "</div>"
      ],
      "text/plain": [
       "           ID  class  feature1  feature2  feature3  feature4  feature5  \\\n",
       "0      842302      1     17.99     10.38    122.80    1001.0   0.11840   \n",
       "1      842517      1     20.57     17.77    132.90    1326.0   0.08474   \n",
       "2    84300903      1     19.69     21.25    130.00    1203.0   0.10960   \n",
       "3    84348301      1     11.42     20.38     77.58     386.1   0.14250   \n",
       "4    84358402      1     20.29     14.34    135.10    1297.0   0.10030   \n",
       "..        ...    ...       ...       ...       ...       ...       ...   \n",
       "564    926424      1     21.56     22.39    142.00    1479.0   0.11100   \n",
       "565    926682      1     20.13     28.25    131.20    1261.0   0.09780   \n",
       "566    926954      1     16.60     28.08    108.30     858.1   0.08455   \n",
       "567    927241      1     20.60     29.33    140.10    1265.0   0.11780   \n",
       "568     92751      0      7.76     24.54     47.92     181.0   0.05263   \n",
       "\n",
       "     feature6  feature7  feature8  ...  feature21  feature22  feature23  \\\n",
       "0     0.27760   0.30010   0.14710  ...     25.380      17.33     184.60   \n",
       "1     0.07864   0.08690   0.07017  ...     24.990      23.41     158.80   \n",
       "2     0.15990   0.19740   0.12790  ...     23.570      25.53     152.50   \n",
       "3     0.28390   0.24140   0.10520  ...     14.910      26.50      98.87   \n",
       "4     0.13280   0.19800   0.10430  ...     22.540      16.67     152.20   \n",
       "..        ...       ...       ...  ...        ...        ...        ...   \n",
       "564   0.11590   0.24390   0.13890  ...     25.450      26.40     166.10   \n",
       "565   0.10340   0.14400   0.09791  ...     23.690      38.25     155.00   \n",
       "566   0.10230   0.09251   0.05302  ...     18.980      34.12     126.70   \n",
       "567   0.27700   0.35140   0.15200  ...     25.740      39.42     184.60   \n",
       "568   0.04362   0.00000   0.00000  ...      9.456      30.37      59.16   \n",
       "\n",
       "     feature24  feature25  feature26  feature27  feature28  feature29  \\\n",
       "0       2019.0    0.16220    0.66560     0.7119     0.2654     0.4601   \n",
       "1       1956.0    0.12380    0.18660     0.2416     0.1860     0.2750   \n",
       "2       1709.0    0.14440    0.42450     0.4504     0.2430     0.3613   \n",
       "3        567.7    0.20980    0.86630     0.6869     0.2575     0.6638   \n",
       "4       1575.0    0.13740    0.20500     0.4000     0.1625     0.2364   \n",
       "..         ...        ...        ...        ...        ...        ...   \n",
       "564     2027.0    0.14100    0.21130     0.4107     0.2216     0.2060   \n",
       "565     1731.0    0.11660    0.19220     0.3215     0.1628     0.2572   \n",
       "566     1124.0    0.11390    0.30940     0.3403     0.1418     0.2218   \n",
       "567     1821.0    0.16500    0.86810     0.9387     0.2650     0.4087   \n",
       "568      268.6    0.08996    0.06444     0.0000     0.0000     0.2871   \n",
       "\n",
       "     feature30  \n",
       "0      0.11890  \n",
       "1      0.08902  \n",
       "2      0.08758  \n",
       "3      0.17300  \n",
       "4      0.07678  \n",
       "..         ...  \n",
       "564    0.07115  \n",
       "565    0.06637  \n",
       "566    0.07820  \n",
       "567    0.12400  \n",
       "568    0.07039  \n",
       "\n",
       "[569 rows x 32 columns]"
      ]
     },
     "execution_count": 2,
     "metadata": {},
     "output_type": "execute_result"
    }
   ],
   "source": [
    "# read dataframe\n",
    "df = pd.read_table('../data/wdbc.data', sep=',', header = None)\n",
    "df.columns = ['ID','class'] + ['feature%d'%i for i in range(1, df.shape[1] - 1)]\n",
    "df.replace({'B' : 0, 'M' : 1}, inplace = True)\n",
    "df"
   ]
  },
  {
   "cell_type": "code",
   "execution_count": 3,
   "metadata": {},
   "outputs": [],
   "source": [
    "# Normalize the data \n",
    "from sklearn import preprocessing\n",
    "\n",
    "X = df.iloc[:, 2:]\n",
    "y = df.iloc[:, 1]\n",
    "\n",
    "normlize_X = pd.DataFrame(preprocessing.normalize(X))\n",
    "df = pd.concat([y, normlize_X], axis = 1)"
   ]
  },
  {
   "cell_type": "markdown",
   "metadata": {},
   "source": [
    "## 1-(b) Monte-Carlo Simulation: \n",
    "### Repeat the following procedures for supervised, unsupervised, and semi-supervised learning M = 30 times, and use randomly selected train and test data (make sure you use 20% of both the positve and negative classes as the test set). Then compare the average scores (accuracy, precision, recall, F1-score, and AUC) that you obtain from each algorithm."
   ]
  },
  {
   "cell_type": "code",
   "execution_count": 4,
   "metadata": {},
   "outputs": [],
   "source": [
    "#Split the benign and malignant class\n",
    "benign_data = []\n",
    "malignant_data= []\n",
    "\n",
    "# benign = 0 , malignant  = 1\n",
    "for i in range(len(df)):\n",
    "    if df['class'][i] == 0:\n",
    "        benign_data.append(df.iloc[i,:])\n",
    "    else:\n",
    "        malignant_data.append(df.iloc[i,:])\n",
    "\n",
    "benign_data = pd.DataFrame(benign_data)\n",
    "malignant_data = pd.DataFrame(malignant_data)"
   ]
  },
  {
   "cell_type": "markdown",
   "metadata": {},
   "source": [
    "## 1-(b)-(i) Supervised Learning:"
   ]
  },
  {
   "cell_type": "markdown",
   "metadata": {},
   "source": [
    "### Train an L1-penalized SVM to classify the data. Use 5 fold cross validation to choose the penalty parameter. Use normalized data. Report the average accuracy, precision, recall, F1-score, and AUC, for both training and test sets over your M runs. Plot the ROC and report the confusion matrix for training and testing in one of the runs."
   ]
  },
  {
   "cell_type": "markdown",
   "metadata": {},
   "source": [
    "**Using GridsearchCV to get the best C in L1-penalized SVM**"
   ]
  },
  {
   "cell_type": "code",
   "execution_count": 5,
   "metadata": {},
   "outputs": [],
   "source": [
    "from sklearn.svm import LinearSVC\n",
    "from sklearn.model_selection import GridSearchCV, KFold\n",
    "from sklearn.model_selection import StratifiedKFold\n",
    "\n",
    "L1_SVM = LinearSVC(penalty = 'l1', dual = False, random_state = 0, tol = 0.1)\n",
    "C_range = np.logspace(-1, 10, 10)\n",
    "L1_params = {'C':C_range}\n",
    "L1_grid = GridSearchCV(L1_SVM, param_grid = L1_params, cv = StratifiedKFold(5, shuffle = True))"
   ]
  },
  {
   "cell_type": "code",
   "execution_count": 6,
   "metadata": {},
   "outputs": [],
   "source": [
    "from sklearn.model_selection import train_test_split\n",
    "from sklearn.metrics import accuracy_score, recall_score, precision_score, f1_score\n",
    "from sklearn.metrics import roc_curve, roc_auc_score, confusion_matrix\n",
    "\n",
    "# create a function to run all metrics in SVM\n",
    "def SVM_metrics (X, y, L1_SVM, best_C, accuracy, recall, precision, f1 , AUC): \n",
    "    \n",
    "    #Best SVM Penalty \"C\"\n",
    "    best_params = L1_SVM.best_params_['C']\n",
    "    best_C.append(best_params)\n",
    "    \n",
    "    #Accuracy\n",
    "    y_pred = L1_SVM.predict(X)\n",
    "    accuracy.append(accuracy_score(y, y_pred))\n",
    "    \n",
    "    #Recall\n",
    "    recall.append(recall_score(y, y_pred))\n",
    "    \n",
    "    #Precision\n",
    "    precision.append(precision_score(y, y_pred))\n",
    "    \n",
    "    #F1 score\n",
    "    f1.append( f1_score(y, y_pred))\n",
    "\n",
    "    #AUC value\n",
    "    pred_proba = L1_SVM.decision_function(X)\n",
    "    AUC.append(roc_auc_score(y, pred_proba))\n",
    "    \n",
    "    return best_C, accuracy, recall, precision, f1,  AUC"
   ]
  },
  {
   "cell_type": "code",
   "execution_count": 7,
   "metadata": {},
   "outputs": [],
   "source": [
    "# list to store train and test metrics\n",
    "best_C_train = []\n",
    "best_C_test  = []\n",
    "accuracy_train = []\n",
    "accuracy_test = []\n",
    "recall_train = []\n",
    "recall_test = []\n",
    "precision_train  = []\n",
    "precision_test = []\n",
    "f1_train  = []\n",
    "f1_test = []\n",
    "AUC_train = []\n",
    "AUC_test = []\n",
    "\n",
    "# running 30 times Monte-Carlo Simulation:\n",
    "for i in range(30):\n",
    "\n",
    "    # Get train data, test data\n",
    "    train_benign , test_benign = train_test_split(benign_data, test_size = 0.2)\n",
    "    train_malignant, test_malignant = train_test_split(malignant_data, test_size = 0.2)\n",
    "    \n",
    "    df_train = pd.concat([train_benign, train_malignant])\n",
    "    df_test = pd.concat([test_benign, test_malignant])\n",
    "    \n",
    "    # Get X_train, X_test,  y_train,  y_test\n",
    "    X_train = df_train.iloc[:, 1:]\n",
    "    X_test = df_test.iloc[:, 1:]\n",
    "    y_train = df_train.iloc[:, 0]\n",
    "    y_test = df_test.iloc[:, 0]\n",
    "\n",
    "    # Fit the model\n",
    "    L1_SVM = L1_grid.fit(X_train, y_train)\n",
    "    best_C_train, accuracy_train, recall_train, precision_train, f1_train, AUC_train = SVM_metrics(X_train, y_train, L1_SVM, best_C_train, accuracy_train, recall_train, precision_train, f1_train, AUC_train)\n",
    "    \n",
    "    best_C_test, accuracy_test, recall_test, precision_test, f1_test, AUC_test = SVM_metrics(X_test, y_test, L1_SVM, best_C_test, accuracy_test, recall_test, precision_test, f1_test, AUC_test )"
   ]
  },
  {
   "cell_type": "markdown",
   "metadata": {},
   "source": [
    "**Training data in L1-penalized SVM with 30 times Monte-Carlo Simulation results**"
   ]
  },
  {
   "cell_type": "code",
   "execution_count": 8,
   "metadata": {},
   "outputs": [
    {
     "name": "stdout",
     "output_type": "stream",
     "text": [
      "Average Best SVM Penalty \"C\": 101883.193\n",
      "Average Accuracy: 0.954\n",
      "Average Recall: 0.932\n",
      "Average Precision: 0.943\n",
      "Average F1 score: 0.937\n",
      "Average AUC score: 0.993\n"
     ]
    }
   ],
   "source": [
    "# print the results\n",
    "print('Average Best SVM Penalty \"C\":', round(np.mean(best_C_train),3))\n",
    "print('Average Accuracy:', round(np.mean(accuracy_train),3))\n",
    "print('Average Recall:', round(np.mean(recall_train),3))\n",
    "print('Average Precision:', round(np.mean(precision_train),3))\n",
    "print('Average F1 score:', round(np.mean(f1_train),3))\n",
    "print('Average AUC score:', round(np.mean(AUC_train),3))"
   ]
  },
  {
   "cell_type": "code",
   "execution_count": 9,
   "metadata": {},
   "outputs": [
    {
     "data": {
      "image/png": "[encoded data removed]",
      "text/plain": [
       "<Figure size 432x288 with 1 Axes>"
      ]
     },
     "metadata": {
      "needs_background": "light"
     },
     "output_type": "display_data"
    },
    {
     "name": "stdout",
     "output_type": "stream",
     "text": [
      "AUC_score of Train set for L1-penalized SVM :  0.9903664486660438\n"
     ]
    }
   ],
   "source": [
    "# Get the best run result\n",
    "L1_SVM = L1_grid.fit(X_train, y_train)\n",
    "y_pred_train = L1_SVM.predict(X_train)\n",
    "pred_proba_train = L1_SVM.decision_function(X_train)\n",
    "\n",
    "    \n",
    "# Plot ROC Curve\n",
    "f_pos, t_pos, thresholds = roc_curve(y_train, pred_proba_train)\n",
    "\n",
    "\n",
    "#plt_roc_curve(fper, tper)\n",
    "def plot_roc_curve(f_pos, t_pos):\n",
    "    plt.plot(f_pos, t_pos, color='red', label='ROC')\n",
    "    plt.plot([0, 1], [0, 1], color='green', linestyle='--')\n",
    "    plt.xlabel('False Positive Rate')\n",
    "    plt.ylabel('True Positive Rate')\n",
    "    plt.title('Receiver Operating Characteristic Curve')\n",
    "    plt.legend()\n",
    "    plt.show()\n",
    "    \n",
    "plot_roc_curve(f_pos, t_pos)\n",
    "print('AUC_score of Train set for L1-penalized SVM : ', roc_auc_score(y_train, pred_proba_train))"
   ]
  },
  {
   "cell_type": "code",
   "execution_count": 10,
   "metadata": {},
   "outputs": [
    {
     "data": {
      "text/html": [
       "<div>\n",
       "<style scoped>\n",
       "    .dataframe tbody tr th:only-of-type {\n",
       "        vertical-align: middle;\n",
       "    }\n",
       "\n",
       "    .dataframe tbody tr th {\n",
       "        vertical-align: top;\n",
       "    }\n",
       "\n",
       "    .dataframe thead th {\n",
       "        text-align: right;\n",
       "    }\n",
       "</style>\n",
       "<table border=\"1\" class=\"dataframe\">\n",
       "  <thead>\n",
       "    <tr style=\"text-align: right;\">\n",
       "      <th>col_0</th>\n",
       "      <th>0.0</th>\n",
       "      <th>1.0</th>\n",
       "    </tr>\n",
       "    <tr>\n",
       "      <th>class</th>\n",
       "      <th></th>\n",
       "      <th></th>\n",
       "    </tr>\n",
       "  </thead>\n",
       "  <tbody>\n",
       "    <tr>\n",
       "      <th>0.0</th>\n",
       "      <td>278</td>\n",
       "      <td>7</td>\n",
       "    </tr>\n",
       "    <tr>\n",
       "      <th>1.0</th>\n",
       "      <td>17</td>\n",
       "      <td>152</td>\n",
       "    </tr>\n",
       "  </tbody>\n",
       "</table>\n",
       "</div>"
      ],
      "text/plain": [
       "col_0  0.0  1.0\n",
       "class          \n",
       "0.0    278    7\n",
       "1.0     17  152"
      ]
     },
     "execution_count": 10,
     "metadata": {},
     "output_type": "execute_result"
    }
   ],
   "source": [
    "# Confusion Matrix\n",
    "# label 0 = Benign=B,  \n",
    "# label 1 = Malignant=M\n",
    "pd.crosstab(y_train, y_pred_train)"
   ]
  },
  {
   "cell_type": "markdown",
   "metadata": {},
   "source": [
    "**Testing data in L1-penalized SVM with 30 times Monte-Carlo Simulation results**"
   ]
  },
  {
   "cell_type": "code",
   "execution_count": 11,
   "metadata": {},
   "outputs": [
    {
     "name": "stdout",
     "output_type": "stream",
     "text": [
      "Average Best SVM Penalty \"C\": 101883.193\n",
      "Average Accuracy: 0.943\n",
      "Average Recall: 0.92\n",
      "Average Precision: 0.93\n",
      "Average F1 score: 0.924\n",
      "Average AUC score: 0.987\n"
     ]
    }
   ],
   "source": [
    "# print the results\n",
    "print('Average Best SVM Penalty \"C\":', round(np.mean(best_C_test),3))\n",
    "print('Average Accuracy:', round(np.mean(accuracy_test),3))\n",
    "print('Average Recall:', round(np.mean(recall_test),3))\n",
    "print('Average Precision:', round(np.mean(precision_test),3))\n",
    "print('Average F1 score:', round(np.mean(f1_test),3))\n",
    "print('Average AUC score:', round(np.mean(AUC_test),3))"
   ]
  },
  {
   "cell_type": "code",
   "execution_count": 12,
   "metadata": {},
   "outputs": [
    {
     "data": {
      "image/png": "[encoded data removed]",
      "text/plain": [
       "<Figure size 432x288 with 1 Axes>"
      ]
     },
     "metadata": {
      "needs_background": "light"
     },
     "output_type": "display_data"
    },
    {
     "name": "stdout",
     "output_type": "stream",
     "text": [
      "AUC_score of Train set for L1-penalized SVM :  0.998062015503876\n"
     ]
    }
   ],
   "source": [
    "# Get the best run result\n",
    "L1_SVM = L1_grid.fit(X_test, y_test)\n",
    "y_pred_test = L1_SVM.predict(X_test)\n",
    "pred_proba_test = L1_SVM.decision_function(X_test)\n",
    "\n",
    "    \n",
    "# Plot ROC Curve\n",
    "f_pos, t_pos, thresholds = roc_curve(y_test, pred_proba_test)\n",
    "\n",
    "\n",
    "#plt_roc_curve(fper, tper)\n",
    "def plot_roc_curve(f_pos, t_pos):\n",
    "    plt.plot(f_pos, t_pos, color='red', label='ROC')\n",
    "    plt.plot([0, 1], [0, 1], color='green', linestyle='--')\n",
    "    plt.xlabel('False Positive Rate')\n",
    "    plt.ylabel('True Positive Rate')\n",
    "    plt.title('Receiver Operating Characteristic Curve')\n",
    "    plt.legend()\n",
    "    plt.show()\n",
    "    \n",
    "plot_roc_curve(f_pos, t_pos)\n",
    "print('AUC_score of Train set for L1-penalized SVM : ', roc_auc_score(y_test, pred_proba_test))"
   ]
  },
  {
   "cell_type": "code",
   "execution_count": 13,
   "metadata": {},
   "outputs": [
    {
     "data": {
      "text/html": [
       "<div>\n",
       "<style scoped>\n",
       "    .dataframe tbody tr th:only-of-type {\n",
       "        vertical-align: middle;\n",
       "    }\n",
       "\n",
       "    .dataframe tbody tr th {\n",
       "        vertical-align: top;\n",
       "    }\n",
       "\n",
       "    .dataframe thead th {\n",
       "        text-align: right;\n",
       "    }\n",
       "</style>\n",
       "<table border=\"1\" class=\"dataframe\">\n",
       "  <thead>\n",
       "    <tr style=\"text-align: right;\">\n",
       "      <th>col_0</th>\n",
       "      <th>0.0</th>\n",
       "      <th>1.0</th>\n",
       "    </tr>\n",
       "    <tr>\n",
       "      <th>class</th>\n",
       "      <th></th>\n",
       "      <th></th>\n",
       "    </tr>\n",
       "  </thead>\n",
       "  <tbody>\n",
       "    <tr>\n",
       "      <th>0.0</th>\n",
       "      <td>71</td>\n",
       "      <td>1</td>\n",
       "    </tr>\n",
       "    <tr>\n",
       "      <th>1.0</th>\n",
       "      <td>1</td>\n",
       "      <td>42</td>\n",
       "    </tr>\n",
       "  </tbody>\n",
       "</table>\n",
       "</div>"
      ],
      "text/plain": [
       "col_0  0.0  1.0\n",
       "class          \n",
       "0.0     71    1\n",
       "1.0      1   42"
      ]
     },
     "execution_count": 13,
     "metadata": {},
     "output_type": "execute_result"
    }
   ],
   "source": [
    "# Confusion Matrix\n",
    "# label 0 = Benign=B,  \n",
    "# label 1 = Malignant=M\n",
    "pd.crosstab(y_test, y_pred_test)"
   ]
  },
  {
   "cell_type": "markdown",
   "metadata": {},
   "source": [
    "## 1-(b)-(ii) Semi-Supervised Learning/ Self-training: \n",
    "### Select 50% of the positive class along with 50% of the negative class in the training set as labeled data and the rest as unlabelled data. You can select them randomly."
   ]
  },
  {
   "cell_type": "markdown",
   "metadata": {},
   "source": [
    "### 1-(b)-(ii)-(A) Train an L1-penalized SVM to classify the labeled data Use normalized data. Choose the penalty parameter using 5 fold cross validation."
   ]
  },
  {
   "cell_type": "markdown",
   "metadata": {},
   "source": [
    "### 1-(b)-(ii)-(B) Find the unlabeled data point that is the farthest to the decision boundary of the SVM. Let the SVM label it (ignore its true label), and add it to the labeled data, and retrain the SVM. Continue this process until all unlabeled data are used. Test the final SVM on the test data and the average accuracy, precision, recall, F1-score, and AUC, for both training and test sets over your M runs. Plot the ROC and report the confusion matrix for training and testing in one of the runs."
   ]
  },
  {
   "cell_type": "code",
   "execution_count": 14,
   "metadata": {},
   "outputs": [],
   "source": [
    "best_C_train_2 = []\n",
    "best_C_test_2  = []\n",
    "accuracy_train_2 = []\n",
    "accuracy_test_2 = []\n",
    "recall_train_2 = []\n",
    "recall_test_2 = []\n",
    "precision_train_2  = []\n",
    "precision_test_2 = []\n",
    "f1_train_2  = []\n",
    "f1_test_2 = []\n",
    "AUC_train_2 = []\n",
    "AUC_test_2 = []\n",
    "\n",
    "L1_SVM_2 = LinearSVC(penalty = 'l1', dual = False, random_state = 0, tol = 0.1)\n",
    "C_range = np.logspace(-1, 10, 10)\n",
    "L1_params = {'C':C_range}\n",
    "L1_grid_2 = GridSearchCV(L1_SVM_2, param_grid = L1_params, cv = StratifiedKFold(5, shuffle = True))\n",
    "\n",
    "#Running 30 times Monte-Carlo Simulation:\n",
    "for i in range(30):\n",
    "    \n",
    "    # Get train data, test data\n",
    "    train_benign, test_benign = train_test_split(benign_data, test_size = 0.2)\n",
    "    train_malignant, test_malignant = train_test_split(malignant_data, test_size = 0.2)\n",
    "        \n",
    "    df_train = pd.concat([train_benign, train_malignant])\n",
    "    df_test = pd.concat([test_benign, test_malignant])\n",
    "    \n",
    "    # Get X_train, X_test,  y_train,  y_test\n",
    "    X_train = df_train.iloc[:, 1:]\n",
    "    X_test = df_test.iloc[:, 1:]\n",
    "    y_train = df_train.iloc[:, 0]\n",
    "    y_test = df_test.iloc[:, 0]\n",
    "    \n",
    "    # Separate labeled_data and unlabeled data from train set\n",
    "    labeled_data, unlabeled_data = train_test_split(df_train, test_size = 0.5, stratify = y_train ) \n",
    "\n",
    "    # Get X_label, y_label, X_unlabel, y_unlabel\n",
    "    X_label = labeled_data.iloc[:, 1:]\n",
    "    y_label = labeled_data.iloc[:, 0]\n",
    "    X_unlabel = unlabeled_data.iloc[:, 1:]\n",
    "    y_unlabel = unlabeled_data.iloc[:, 0]\n",
    "    \n",
    "    #Fit the model\n",
    "    L1_SVM_2 = L1_grid_2.fit(X_label, y_label)\n",
    "    \n",
    "    while len(X_unlabel) > 0:\n",
    "        \n",
    "        #Calculate distance from unlabeled data points to decision boundary\n",
    "        distances = L1_SVM_2.decision_function(X_unlabel)\n",
    "\n",
    "        #Sort by the absolute value of score\n",
    "        sorted_index = sorted([i for i in range(len(X_unlabel))], key = lambda x : abs(distances[x]), reverse = True)\n",
    "        farthest_point = sorted_index[0]\n",
    "        farthest_X = pd.DataFrame(X_unlabel.iloc[farthest_point,:])\n",
    "        farthest_y = pd.Series(y_unlabel.iloc[farthest_point])\n",
    "        \n",
    "        #Remove the farest point from unlabeled and add it to label data \n",
    "        X_label = pd.concat([X_label, farthest_X.T])\n",
    "        y_label = pd.concat([y_label, farthest_y])\n",
    "        droped_index = X_unlabel.index[farthest_point]\n",
    "        X_unlabel = X_unlabel.drop(index = droped_index)\n",
    "        \n",
    "        #Refit the SVC\n",
    "        L1_SVM_2 = L1_grid_2.fit(X_label, y_label)\n",
    "        \n",
    "    best_C_train_2, accuracy_train_2, recall_train_2, precision_train_2, f1_train_2, AUC_train_2 = SVM_metrics(X_train, y_train, L1_SVM_2, best_C_train_2, accuracy_train_2, recall_train_2, precision_train_2, f1_train_2, AUC_train_2)\n",
    "    best_C_test_2, accuracy_test_2, recall_test_2, precision_test_2, f1_test_2, AUC_test_2 = SVM_metrics(X_test, y_test, L1_SVM_2, best_C_test_2, accuracy_test_2, recall_test_2, precision_test_2, f1_test_2, AUC_test_2 )"
   ]
  },
  {
   "cell_type": "markdown",
   "metadata": {},
   "source": [
    "**Training data in Semi-Supervised Learning L1-penalized SVM with 30 times Monte-Carlo Simulation results**"
   ]
  },
  {
   "cell_type": "code",
   "execution_count": 15,
   "metadata": {},
   "outputs": [
    {
     "name": "stdout",
     "output_type": "stream",
     "text": [
      "Average Best SVM Penalty \"C\": 1374333.326\n",
      "Average Accuracy: 0.908\n",
      "Average Recall: 0.771\n",
      "Average Precision: 0.979\n",
      "Average F1 score: 0.858\n",
      "Average AUC score: 0.983\n"
     ]
    }
   ],
   "source": [
    "# print the results\n",
    "print('Average Best SVM Penalty \"C\":', round(np.mean(best_C_train_2),3))\n",
    "print('Average Accuracy:', round(np.mean(accuracy_train_2),3))\n",
    "print('Average Recall:', round(np.mean(recall_train_2),3))\n",
    "print('Average Precision:', round(np.mean(precision_train_2),3))\n",
    "print('Average F1 score:', round(np.mean(f1_train_2),3))\n",
    "print('Average AUC score:', round(np.mean(AUC_train_2),3))"
   ]
  },
  {
   "cell_type": "code",
   "execution_count": 16,
   "metadata": {},
   "outputs": [
    {
     "data": {
      "image/png": "[encoded data removed]",
      "text/plain": [
       "<Figure size 432x288 with 1 Axes>"
      ]
     },
     "metadata": {
      "needs_background": "light"
     },
     "output_type": "display_data"
    },
    {
     "name": "stdout",
     "output_type": "stream",
     "text": [
      "AUC_score of Train set for L1-penalized SVM :  0.99412436416485\n"
     ]
    }
   ],
   "source": [
    "# Get the best run result\n",
    "L1_SVM_2 = L1_grid.fit(X_train, y_train)\n",
    "y_pred_train = L1_SVM_2.predict(X_train)\n",
    "pred_proba_train = L1_SVM_2.decision_function(X_train)\n",
    "\n",
    "    \n",
    "# Plot ROC Curve\n",
    "f_pos, t_pos, thresholds = roc_curve(y_train, pred_proba_train)\n",
    "\n",
    "\n",
    "#plt_roc_curve(fper, tper)\n",
    "def plot_roc_curve(f_pos, t_pos):\n",
    "    plt.plot(f_pos, t_pos, color='red', label='ROC')\n",
    "    plt.plot([0, 1], [0, 1], color='green', linestyle='--')\n",
    "    plt.xlabel('False Positive Rate')\n",
    "    plt.ylabel('True Positive Rate')\n",
    "    plt.title('Receiver Operating Characteristic Curve')\n",
    "    plt.legend()\n",
    "    plt.show()\n",
    "    \n",
    "plot_roc_curve(f_pos, t_pos)\n",
    "print('AUC_score of Train set for L1-penalized SVM : ', roc_auc_score(y_train, pred_proba_train))"
   ]
  },
  {
   "cell_type": "code",
   "execution_count": 17,
   "metadata": {},
   "outputs": [
    {
     "data": {
      "text/html": [
       "<div>\n",
       "<style scoped>\n",
       "    .dataframe tbody tr th:only-of-type {\n",
       "        vertical-align: middle;\n",
       "    }\n",
       "\n",
       "    .dataframe tbody tr th {\n",
       "        vertical-align: top;\n",
       "    }\n",
       "\n",
       "    .dataframe thead th {\n",
       "        text-align: right;\n",
       "    }\n",
       "</style>\n",
       "<table border=\"1\" class=\"dataframe\">\n",
       "  <thead>\n",
       "    <tr style=\"text-align: right;\">\n",
       "      <th>col_0</th>\n",
       "      <th>0.0</th>\n",
       "      <th>1.0</th>\n",
       "    </tr>\n",
       "    <tr>\n",
       "      <th>class</th>\n",
       "      <th></th>\n",
       "      <th></th>\n",
       "    </tr>\n",
       "  </thead>\n",
       "  <tbody>\n",
       "    <tr>\n",
       "      <th>0.0</th>\n",
       "      <td>274</td>\n",
       "      <td>11</td>\n",
       "    </tr>\n",
       "    <tr>\n",
       "      <th>1.0</th>\n",
       "      <td>9</td>\n",
       "      <td>160</td>\n",
       "    </tr>\n",
       "  </tbody>\n",
       "</table>\n",
       "</div>"
      ],
      "text/plain": [
       "col_0  0.0  1.0\n",
       "class          \n",
       "0.0    274   11\n",
       "1.0      9  160"
      ]
     },
     "execution_count": 17,
     "metadata": {},
     "output_type": "execute_result"
    }
   ],
   "source": [
    "# Confusion Matrix\n",
    "# label 0 = Benign=B,  \n",
    "# label 1 = Malignant=M\n",
    "pd.crosstab(y_train, y_pred_train)"
   ]
  },
  {
   "cell_type": "markdown",
   "metadata": {},
   "source": [
    "**Testing data in Semi-Supervised Learning L1-penalized SVM with 30 times Monte-Carlo Simulation results**"
   ]
  },
  {
   "cell_type": "code",
   "execution_count": 18,
   "metadata": {},
   "outputs": [
    {
     "name": "stdout",
     "output_type": "stream",
     "text": [
      "Average Best SVM Penalty \"C\": 1374333.326\n",
      "Average Accuracy: 0.909\n",
      "Average Recall: 0.77\n",
      "Average Precision: 0.984\n",
      "Average F1 score: 0.858\n",
      "Average AUC score: 0.981\n"
     ]
    }
   ],
   "source": [
    "# print the results\n",
    "print('Average Best SVM Penalty \"C\":', round(np.mean(best_C_test_2),3))\n",
    "print('Average Accuracy:', round(np.mean(accuracy_test_2),3))\n",
    "print('Average Recall:', round(np.mean(recall_test_2),3))\n",
    "print('Average Precision:', round(np.mean(precision_test_2),3))\n",
    "print('Average F1 score:', round(np.mean(f1_test_2),3))\n",
    "print('Average AUC score:', round(np.mean(AUC_test_2),3))"
   ]
  },
  {
   "cell_type": "code",
   "execution_count": 19,
   "metadata": {},
   "outputs": [
    {
     "data": {
      "image/png": "[encoded data removed]",
      "text/plain": [
       "<Figure size 432x288 with 1 Axes>"
      ]
     },
     "metadata": {
      "needs_background": "light"
     },
     "output_type": "display_data"
    },
    {
     "name": "stdout",
     "output_type": "stream",
     "text": [
      "AUC_score of Train set for L1-penalized SVM :  0.986111111111111\n"
     ]
    }
   ],
   "source": [
    "# Get the best run result\n",
    "#L1_SVM_2 = L1_grid.fit(X_test, y_test)\n",
    "y_pred_test_2 = L1_SVM_2.predict(X_test)\n",
    "pred_proba_test_2 = L1_SVM_2.decision_function(X_test)\n",
    "\n",
    "    \n",
    "# Plot ROC Curve\n",
    "f_pos, t_pos, thresholds = roc_curve(y_test, pred_proba_test_2)\n",
    "\n",
    "\n",
    "#plt_roc_curve(fper, tper)\n",
    "def plot_roc_curve(f_pos, t_pos):\n",
    "    plt.plot(f_pos, t_pos, color='red', label='ROC')\n",
    "    plt.plot([0, 1], [0, 1], color='green', linestyle='--')\n",
    "    plt.xlabel('False Positive Rate')\n",
    "    plt.ylabel('True Positive Rate')\n",
    "    plt.title('Receiver Operating Characteristic Curve')\n",
    "    plt.legend()\n",
    "    plt.show()\n",
    "    \n",
    "plot_roc_curve(f_pos, t_pos)\n",
    "print('AUC_score of Train set for L1-penalized SVM : ', roc_auc_score(y_test, pred_proba_test_2))"
   ]
  },
  {
   "cell_type": "code",
   "execution_count": 20,
   "metadata": {},
   "outputs": [
    {
     "data": {
      "text/html": [
       "<div>\n",
       "<style scoped>\n",
       "    .dataframe tbody tr th:only-of-type {\n",
       "        vertical-align: middle;\n",
       "    }\n",
       "\n",
       "    .dataframe tbody tr th {\n",
       "        vertical-align: top;\n",
       "    }\n",
       "\n",
       "    .dataframe thead th {\n",
       "        text-align: right;\n",
       "    }\n",
       "</style>\n",
       "<table border=\"1\" class=\"dataframe\">\n",
       "  <thead>\n",
       "    <tr style=\"text-align: right;\">\n",
       "      <th>col_0</th>\n",
       "      <th>0.0</th>\n",
       "      <th>1.0</th>\n",
       "    </tr>\n",
       "    <tr>\n",
       "      <th>class</th>\n",
       "      <th></th>\n",
       "      <th></th>\n",
       "    </tr>\n",
       "  </thead>\n",
       "  <tbody>\n",
       "    <tr>\n",
       "      <th>0.0</th>\n",
       "      <td>68</td>\n",
       "      <td>4</td>\n",
       "    </tr>\n",
       "    <tr>\n",
       "      <th>1.0</th>\n",
       "      <td>1</td>\n",
       "      <td>42</td>\n",
       "    </tr>\n",
       "  </tbody>\n",
       "</table>\n",
       "</div>"
      ],
      "text/plain": [
       "col_0  0.0  1.0\n",
       "class          \n",
       "0.0     68    4\n",
       "1.0      1   42"
      ]
     },
     "execution_count": 20,
     "metadata": {},
     "output_type": "execute_result"
    }
   ],
   "source": [
    "# Confusion Matrix\n",
    "# label 0 = Benign=B,  \n",
    "# label 1 = Malignant=M\n",
    "pd.crosstab(y_test, y_pred_test_2)"
   ]
  },
  {
   "cell_type": "markdown",
   "metadata": {},
   "source": [
    "## 1-(b)-(iii) Unsupervised Learning:\n",
    "###  Run k-means algorithm on the whole training set. Ignore the labels of the data, and assume k = 2."
   ]
  },
  {
   "cell_type": "markdown",
   "metadata": {},
   "source": [
    "### 1-(b)-(iii)-(A) Run the k-means algorithm multiple times. Make sure that you initialize the algoritm randomly. How do you make sure that the algorithm was not trapped in a local minimum?"
   ]
  },
  {
   "cell_type": "markdown",
   "metadata": {},
   "source": [
    "**To avoid local minimal I use n_init = 100 and init = \"random\".**\n",
    "\n",
    "Given kmeans iterative nature and the random initialization of centroids at the start of the algorithm, different initializations may lead to different clusters since kmeans algorithm may stuck in a local optimum and may not converge to global optimum. Therefore, it is better to run the algorithm using different initializations of centroids and pick the results of the run that that yielded the lower sum of squared distance."
   ]
  },
  {
   "cell_type": "markdown",
   "metadata": {},
   "source": [
    "### 1-(b)-(iii)-(B) Compute the centers of the two clusters and find the closest 30 data points to each center. Read the true labels of those 30 data points and take a majority poll within them. The majority poll becomes the label predicted by k-means for the members of each cluster. Then compare the labels provided by k-means with the true labels of the training data and report the average accuracy, precision, recall, F1-score, and AUC over M runs, and ROC and the confusion matrix for one of the runs."
   ]
  },
  {
   "cell_type": "code",
   "execution_count": 21,
   "metadata": {},
   "outputs": [],
   "source": [
    "# create a function to run all metrics in k-means\n",
    "def kmeans_metrics (X, y, y_pred, k_means, accuracy, recall, precision, f1 , AUC): \n",
    "    \n",
    "    #Accuracy\n",
    "    accuracy.append(accuracy_score(y, y_pred))\n",
    "    \n",
    "    #Recall\n",
    "    recall.append(recall_score(y, y_pred))\n",
    "    \n",
    "    #Precision\n",
    "    precision.append(precision_score(y, y_pred))\n",
    "    \n",
    "    #F1 score\n",
    "    f1.append(f1_score(y, y_pred))\n",
    "\n",
    "    #AUC value - Using Gaussian Mixture Models to get the proba in Kmeans\n",
    "    clf = GaussianMixture(n_components = 2,  \n",
    "                          means_init = k_means.cluster_centers_ ).fit(X)\n",
    "    pred_proba = clf.predict_proba(X)[::,1]\n",
    "    auc_score = roc_auc_score(y, pred_proba)\n",
    "    if  auc_score <= 0.2:\n",
    "        AUC.append(1-auc_score)\n",
    "    else:\n",
    "        AUC.append(auc_score)\n",
    "    \n",
    "    return accuracy, recall, precision, f1,  AUC"
   ]
  },
  {
   "cell_type": "code",
   "execution_count": 22,
   "metadata": {},
   "outputs": [],
   "source": [
    "# A function to update label after majority pull\n",
    "def change_label(x,y):\n",
    "    x2 = x.copy()\n",
    "    for i in range(len(x2)):\n",
    "        if x2[i] == 0:\n",
    "            x2[i] = y[0]\n",
    "        else:\n",
    "            x2[i] = y[1]\n",
    "    return x2"
   ]
  },
  {
   "cell_type": "code",
   "execution_count": 23,
   "metadata": {},
   "outputs": [],
   "source": [
    "import operator\n",
    "from sklearn.cluster import KMeans\n",
    "from sklearn.mixture import GaussianMixture\n",
    "from sklearn.metrics.pairwise import euclidean_distances\n",
    "#from sklearn.metrics import RocCurveDisplay\n",
    "\n",
    "accuracy_train_kmeans = []\n",
    "accuracy_test_kmeans = []\n",
    "recall_train_kmeans = []\n",
    "recall_test_kmeans = []\n",
    "precision_train_kmeans  = []\n",
    "precision_test_kmeans = []\n",
    "f1_train_kmeans  = []\n",
    "f1_test_kmeans = []\n",
    "AUC_train_kmeans = []\n",
    "AUC_test_kmeans = []\n",
    "\n",
    "\n",
    "#Running 30 times Monte-Carlo Simulation:\n",
    "for t in range(30):\n",
    "    \n",
    "    cluster_majority = []\n",
    "\n",
    "    # Get train data, test data\n",
    "    train_benign, test_benign = train_test_split(benign_data, test_size = 0.2, random_state = t )\n",
    "    train_malignant, test_malignant = train_test_split(malignant_data, test_size = 0.2, random_state = t )\n",
    "        \n",
    "    df_train = pd.concat([train_benign, train_malignant])\n",
    "    df_test = pd.concat([test_benign, test_malignant])\n",
    "    \n",
    "    # Get X_train, X_test,  y_train,  y_test\n",
    "    X_train = df_train.iloc[:, 1:]\n",
    "    X_test = df_test.iloc[:, 1:]\n",
    "    y_train = df_train.iloc[:, 0]\n",
    "    y_test = df_test.iloc[:, 0]\n",
    "    \n",
    "    #Construct the model\n",
    "    k_means = KMeans(n_clusters = 2, init = 'random', n_init =  100, random_state = 1).fit(X_train)  # build kmeans cluster with k = 2 \n",
    "    \n",
    "    cluster_center = k_means.cluster_centers_\n",
    "    distances = euclidean_distances(X_train, cluster_center)\n",
    "\n",
    "    cluster1_distance = {}\n",
    "    cluster2_distance = {}\n",
    "    \n",
    "    for i in range(len(X_train)):\n",
    "        cluster1_distance[y_train.index[i]] = distances[i][0]\n",
    "        cluster2_distance[y_train.index[i]] = distances[i][1]\n",
    "    \n",
    "    sorted_cluster1 = sorted(cluster1_distance.items(), key = operator.itemgetter(1))\n",
    "    sorted_cluster2 = sorted(cluster2_distance.items(), key = operator.itemgetter(1))\n",
    "    \n",
    "    #Find the Majority of First Cluster \n",
    "    cluster1_label = {}\n",
    "    for i in range(30):\n",
    "        index = sorted_cluster1[i][0]\n",
    "        label = y[index]\n",
    "        if label in cluster1_label.keys():\n",
    "            cluster1_label[label] += 1\n",
    "        else:\n",
    "            cluster1_label[label] = 1\n",
    "            \n",
    "    sorted_cluster1_label = sorted(cluster1_label.items(), key = operator.itemgetter(1), reverse = True)\n",
    "    cluster1_majority = sorted_cluster1_label[0][0]\n",
    "    \n",
    "    #Find the Majority of Second Cluster\n",
    "    cluster2_label = {}\n",
    "    for i in range(30):\n",
    "        index = sorted_cluster2[i][0]\n",
    "        label = y[index]\n",
    "        if label in cluster2_label.keys():\n",
    "            cluster2_label[label] += 1\n",
    "        else:\n",
    "            cluster2_label[label] = 1\n",
    "            \n",
    "    sorted_cluster2_label = sorted(cluster2_label.items(), key = operator.itemgetter(1), reverse = True)\n",
    "    cluster2_majority = sorted_cluster2_label[0][0]\n",
    "    \n",
    "    # record each cluster majority\n",
    "    cluster_majority.append(cluster1_majority)\n",
    "    cluster_majority.append(cluster2_majority)\n",
    "    \n",
    "    # update label after majority pull\n",
    "    final_label  = change_label(k_means.labels_, cluster_majority)\n",
    "    accuracy_train_kmeans, recall_train_kmeans, precision_train_kmeans, f1_train_kmeans, AUC_train_kmeans = kmeans_metrics(X_train, y_train,  final_label , k_means, accuracy_train_kmeans, recall_train_kmeans, precision_train_kmeans, f1_train_kmeans, AUC_train_kmeans)\n",
    "\n",
    "    #Test Data\n",
    "    y_pred_test  = k_means.predict(X_test)\n",
    "    final_label_test  = change_label(y_pred_test, cluster_majority)\n",
    "    accuracy_test_kmeans, recall_test_kmeans, precision_test_kmeans, f1_test_kmeans, AUC_test_kmeans = kmeans_metrics(X_test, y_test, final_label_test, k_means, accuracy_test_kmeans, recall_test_kmeans, precision_test_kmeans, f1_test_kmeans, AUC_test_kmeans)"
   ]
  },
  {
   "cell_type": "markdown",
   "metadata": {},
   "source": [
    "**Training data in Unsupervised Learning- Kmeans with 30 times Monte-Carlo Simulation results**"
   ]
  },
  {
   "cell_type": "code",
   "execution_count": 24,
   "metadata": {},
   "outputs": [
    {
     "name": "stdout",
     "output_type": "stream",
     "text": [
      "Average Accuracy: 0.886\n",
      "Average Recall: 0.728\n",
      "Average Precision: 0.957\n",
      "Average F1 score: 0.826\n",
      "Average AUC score: 0.83\n"
     ]
    }
   ],
   "source": [
    "# print the Train results\n",
    "\n",
    "print('Average Accuracy:', round(np.mean(accuracy_train_kmeans),3))\n",
    "print('Average Recall:', round(np.mean(recall_train_kmeans),3))\n",
    "print('Average Precision:', round(np.mean(precision_train_kmeans),3))\n",
    "print('Average F1 score:', round(np.mean(f1_train_kmeans),3))\n",
    "print('Average AUC score:', round(np.mean(AUC_train_kmeans),3))"
   ]
  },
  {
   "cell_type": "markdown",
   "metadata": {},
   "source": [
    "**Training results in 1 Monte-Carlo Simulation run**"
   ]
  },
  {
   "cell_type": "code",
   "execution_count": 25,
   "metadata": {},
   "outputs": [
    {
     "data": {
      "image/png": "[encoded data removed]",
      "text/plain": [
       "<Figure size 432x288 with 1 Axes>"
      ]
     },
     "metadata": {
      "needs_background": "light"
     },
     "output_type": "display_data"
    },
    {
     "name": "stdout",
     "output_type": "stream",
     "text": [
      "AUC_score of Train set for k-means model :  0.9401224955880826\n"
     ]
    }
   ],
   "source": [
    "# Plot ROC Curve\n",
    "clf = GaussianMixture(n_components = 2,random_state = 1).fit(X_train)\n",
    "pred_proba_kmeans = clf.predict_proba(X_train)[::,1]\n",
    "f_pos, t_pos, thresholds = roc_curve(y_train, pred_proba_kmeans)\n",
    "\n",
    "#plt_roc_curve(fper, tper)\n",
    "def plot_roc_curve(f_pos, t_pos):\n",
    "    plt.plot(f_pos, t_pos, color='red', label='ROC')\n",
    "    plt.plot([0, 1], [0, 1], color='green', linestyle='--')\n",
    "    plt.xlabel('False Positive Rate')\n",
    "    plt.ylabel('True Positive Rate')\n",
    "    plt.title('Receiver Operating Characteristic Curve')\n",
    "    plt.legend()\n",
    "    plt.show()\n",
    "    \n",
    "plot_roc_curve(f_pos, t_pos)\n",
    "print('AUC_score of Train set for k-means model : ', roc_auc_score(y_train, pred_proba_kmeans))"
   ]
  },
  {
   "cell_type": "code",
   "execution_count": 26,
   "metadata": {},
   "outputs": [
    {
     "data": {
      "text/html": [
       "<div>\n",
       "<style scoped>\n",
       "    .dataframe tbody tr th:only-of-type {\n",
       "        vertical-align: middle;\n",
       "    }\n",
       "\n",
       "    .dataframe tbody tr th {\n",
       "        vertical-align: top;\n",
       "    }\n",
       "\n",
       "    .dataframe thead th {\n",
       "        text-align: right;\n",
       "    }\n",
       "</style>\n",
       "<table border=\"1\" class=\"dataframe\">\n",
       "  <thead>\n",
       "    <tr style=\"text-align: right;\">\n",
       "      <th>col_0</th>\n",
       "      <th>0</th>\n",
       "      <th>1</th>\n",
       "    </tr>\n",
       "    <tr>\n",
       "      <th>class</th>\n",
       "      <th></th>\n",
       "      <th></th>\n",
       "    </tr>\n",
       "  </thead>\n",
       "  <tbody>\n",
       "    <tr>\n",
       "      <th>0.0</th>\n",
       "      <td>281</td>\n",
       "      <td>4</td>\n",
       "    </tr>\n",
       "    <tr>\n",
       "      <th>1.0</th>\n",
       "      <td>49</td>\n",
       "      <td>120</td>\n",
       "    </tr>\n",
       "  </tbody>\n",
       "</table>\n",
       "</div>"
      ],
      "text/plain": [
       "col_0    0    1\n",
       "class          \n",
       "0.0    281    4\n",
       "1.0     49  120"
      ]
     },
     "execution_count": 26,
     "metadata": {},
     "output_type": "execute_result"
    }
   ],
   "source": [
    "# Confusion Matrix\n",
    "# label 0 = Benign=B,  \n",
    "# label 1 = Malignant=M\n",
    "pd.crosstab(y_train, final_label)"
   ]
  },
  {
   "cell_type": "markdown",
   "metadata": {},
   "source": [
    "### 1-(b)-(iii)-(C) Classify test data based on their proximity to the centers of the clusters. Report the average accuracy, precision, recall, F1-score, and AUC over M runs, and ROC and the confusion matrix for one of the runs for the test data.\n",
    "\n",
    "K-means algorithm does not provide probabilities, so one can use the distances from cluster center and\n",
    "pass them through a softmax to calculate probabilities. Alternatively, one can calculate the ROC curve by\n",
    "varying the threshold for majority polling. Usually, a majority is achieved when t = 50% of the data are in\n",
    "a class. one can vary t and obtain an ROC curve."
   ]
  },
  {
   "cell_type": "markdown",
   "metadata": {},
   "source": [
    "**Testing data in Unsupervised Learning- Kmeans with 30 times Monte-Carlo Simulation results**"
   ]
  },
  {
   "cell_type": "code",
   "execution_count": 27,
   "metadata": {},
   "outputs": [
    {
     "name": "stdout",
     "output_type": "stream",
     "text": [
      "Average Accuracy: 0.89\n",
      "Average Recall: 0.733\n",
      "Average Precision: 0.965\n",
      "Average F1 score: 0.831\n",
      "Average AUC score: 0.882\n"
     ]
    }
   ],
   "source": [
    "# print the Train results\n",
    "\n",
    "print('Average Accuracy:', round(np.mean(accuracy_test_kmeans),3))\n",
    "print('Average Recall:', round(np.mean(recall_test_kmeans),3))\n",
    "print('Average Precision:', round(np.mean(precision_test_kmeans),3))\n",
    "print('Average F1 score:', round(np.mean(f1_test_kmeans),3))\n",
    "print('Average AUC score:', round(np.mean(AUC_test_kmeans),3))"
   ]
  },
  {
   "cell_type": "markdown",
   "metadata": {},
   "source": [
    "**Testing results in 1 Monte-Carlo Simulation run**"
   ]
  },
  {
   "cell_type": "code",
   "execution_count": 28,
   "metadata": {},
   "outputs": [
    {
     "data": {
      "image/png": "[encoded data removed]",
      "text/plain": [
       "<Figure size 432x288 with 1 Axes>"
      ]
     },
     "metadata": {
      "needs_background": "light"
     },
     "output_type": "display_data"
    },
    {
     "name": "stdout",
     "output_type": "stream",
     "text": [
      "AUC_score of Test set for k-means model:  0.9460594315245479\n"
     ]
    }
   ],
   "source": [
    "# Plot ROC Curve\n",
    "pred_proba_kmeans_test = clf.predict_proba(X_test)[::,1]\n",
    "f_pos, t_pos, thresholds = roc_curve(y_test, pred_proba_kmeans_test)\n",
    "\n",
    "#plt_roc_curve(fper, tper)\n",
    "def plot_roc_curve(f_pos, t_pos):\n",
    "    plt.plot(f_pos, t_pos, color='red', label='ROC')\n",
    "    plt.plot([0, 1], [0, 1], color='green', linestyle='--')\n",
    "    plt.xlabel('False Positive Rate')\n",
    "    plt.ylabel('True Positive Rate')\n",
    "    plt.title('Receiver Operating Characteristic Curve')\n",
    "    plt.legend()\n",
    "    plt.show()\n",
    "    \n",
    "plot_roc_curve(f_pos, t_pos)\n",
    "print('AUC_score of Test set for k-means model: ', roc_auc_score(y_test, pred_proba_kmeans_test))"
   ]
  },
  {
   "cell_type": "code",
   "execution_count": 29,
   "metadata": {},
   "outputs": [
    {
     "data": {
      "text/html": [
       "<div>\n",
       "<style scoped>\n",
       "    .dataframe tbody tr th:only-of-type {\n",
       "        vertical-align: middle;\n",
       "    }\n",
       "\n",
       "    .dataframe tbody tr th {\n",
       "        vertical-align: top;\n",
       "    }\n",
       "\n",
       "    .dataframe thead th {\n",
       "        text-align: right;\n",
       "    }\n",
       "</style>\n",
       "<table border=\"1\" class=\"dataframe\">\n",
       "  <thead>\n",
       "    <tr style=\"text-align: right;\">\n",
       "      <th>col_0</th>\n",
       "      <th>0</th>\n",
       "      <th>1</th>\n",
       "    </tr>\n",
       "    <tr>\n",
       "      <th>class</th>\n",
       "      <th></th>\n",
       "      <th></th>\n",
       "    </tr>\n",
       "  </thead>\n",
       "  <tbody>\n",
       "    <tr>\n",
       "      <th>0.0</th>\n",
       "      <td>70</td>\n",
       "      <td>2</td>\n",
       "    </tr>\n",
       "    <tr>\n",
       "      <th>1.0</th>\n",
       "      <td>12</td>\n",
       "      <td>31</td>\n",
       "    </tr>\n",
       "  </tbody>\n",
       "</table>\n",
       "</div>"
      ],
      "text/plain": [
       "col_0   0   1\n",
       "class        \n",
       "0.0    70   2\n",
       "1.0    12  31"
      ]
     },
     "execution_count": 29,
     "metadata": {},
     "output_type": "execute_result"
    }
   ],
   "source": [
    "# Confusion Matrix\n",
    "# label 0 = Benign=B,  \n",
    "# label 1 = Malignant=M\n",
    "pd.crosstab(y_test, final_label_test)"
   ]
  },
  {
   "cell_type": "markdown",
   "metadata": {},
   "source": [
    "## 1-(b)-(iv) Spectral Clustering:\n",
    "### Repeat 1(b)iii using spectral clustering, which is clustering based on kernels. Research what spectral clustering is. Use RBF kernel with gamma=1 or find a gamma for which the two clutsres have the same balance as the one in original data set (if the positive class has p and the negative class has n samples, the two clusters must have p and n members). Do not label data based on their proximity to cluster center, because spectral clustering may give you non-convex clusters . Instead, use fit_predict method.\n",
    "\n",
    "Because Spectral Clustering will not give you cluster centers, instead of considering 30 closest data points\n",
    "to the center, consider labeling based on either 30 randomly selected data points or the entire points in each\n",
    "cluster. Also, for ROC curves, you can vary the threshold of majority polling to obtain an ROC."
   ]
  },
  {
   "cell_type": "code",
   "execution_count": 30,
   "metadata": {},
   "outputs": [],
   "source": [
    "# create a function to run all metrics in Spectral Clustering\n",
    "def spectral_metrics(X, y, y_pred, k_means, accuracy, recall, precision, f1 , AUC): \n",
    "    \n",
    "    #Accuracy\n",
    "    accuracy.append(accuracy_score(y, y_pred))\n",
    "    \n",
    "    #Recall\n",
    "    recall.append(recall_score(y, y_pred))\n",
    "    \n",
    "    #Precision\n",
    "    precision.append(precision_score(y, y_pred))\n",
    "    \n",
    "    #F1 score\n",
    "    f1.append(f1_score(y, y_pred))\n",
    "    \n",
    "    #AUC value - Using Gaussian Mixture Models to get the proba in Kmeans\n",
    "    clf = GaussianMixture(n_components = 2, covariance_type = 'spherical').fit(X)\n",
    "    pred_proba = clf.predict_proba(X)[::,1]\n",
    "    auc_score = roc_auc_score(y, pred_proba)\n",
    "    if  auc_score <= 0.2:\n",
    "        AUC.append(1-auc_score)\n",
    "    else:\n",
    "        AUC.append(auc_score)\n",
    "    \n",
    "    return accuracy, recall, precision, f1,  AUC"
   ]
  },
  {
   "cell_type": "code",
   "execution_count": 31,
   "metadata": {},
   "outputs": [],
   "source": [
    "from sklearn.cluster import SpectralClustering\n",
    "\n",
    "accuracy_train_spectral = []\n",
    "accuracy_test_spectral = []\n",
    "recall_train_spectral = []\n",
    "recall_test_spectral = []\n",
    "precision_train_spectral  = []\n",
    "precision_test_spectral = []\n",
    "f1_train_spectral  = []\n",
    "f1_test_spectral = []\n",
    "AUC_train_spectral = []\n",
    "AUC_test_spectral = []\n",
    "\n",
    "for t in range(30):\n",
    "    \n",
    "    cluster_majority_spectral = []\n",
    "    cluster_majority_spectral_test = []\n",
    "    \n",
    "    # Get train data, test data\n",
    "    train_benign, test_benign = train_test_split(benign_data, test_size = 0.2)\n",
    "    train_malignant, test_malignant = train_test_split(malignant_data, test_size = 0.2)\n",
    "        \n",
    "    df_train = pd.concat([train_benign, train_malignant])\n",
    "    df_test = pd.concat([test_benign, test_malignant])\n",
    "    \n",
    "    # Get X_train, X_test,  y_train,  y_test\n",
    "    X_train = df_train.iloc[:, 1:]\n",
    "    X_test = df_test.iloc[:, 1:]\n",
    "    y_train = df_train.iloc[:, 0]\n",
    "    y_test = df_test.iloc[:, 0]\n",
    "    \n",
    "    # Fit the model\n",
    "    spectral_cluster = SpectralClustering(n_clusters = 2, affinity = 'rbf', gamma = 1.0, eigen_tol = 1.0, assign_labels ='discretize')\n",
    "    labels_train = spectral_cluster.fit_predict(X_train)\n",
    "    \n",
    "    #Use the Majority pull for all train set of cluster\n",
    "    cluster1_label_spectral = {}\n",
    "    cluster2_label_spectral = {}\n",
    "    \n",
    "    for i in range(len(labels_train)):\n",
    "        \n",
    "        #cluster1 \n",
    "        if labels_train[i] == 0:\n",
    "            number = y_train.index[i] \n",
    "            index_1 = y[number]\n",
    "            if index_1 in cluster1_label_spectral.keys():\n",
    "                cluster1_label_spectral[index_1] += 1\n",
    "            else:\n",
    "                cluster1_label_spectral[index_1] = 1\n",
    "                \n",
    "        #cluster2 \n",
    "        else:\n",
    "            number = y_train.index[i] \n",
    "            index_2 = y[number]\n",
    "            if index_2 in cluster2_label_spectral.keys():\n",
    "                cluster2_label_spectral[index_2] += 1\n",
    "            else:\n",
    "                cluster2_label_spectral[index_2] = 1            \n",
    "    \n",
    "    sorted_cluster1_label_spectral = sorted(cluster1_label_spectral.items(), key = operator.itemgetter(1), reverse = True)\n",
    "    cluster1_majority_spectral = sorted_cluster1_label_spectral[0][0]\n",
    "    sorted_cluster2_label_spectral = sorted(cluster2_label_spectral.items(), key = operator.itemgetter(1), reverse = True)\n",
    "    cluster2_majority_spectral = sorted_cluster2_label_spectral[0][0]\n",
    "\n",
    "    # record each cluster majority\n",
    "    cluster_majority_spectral.append(cluster1_majority_spectral)\n",
    "    cluster_majority_spectral.append(cluster2_majority_spectral)\n",
    "    \n",
    "    # update label after majority pull\n",
    "    final_label_spectral  = change_label(labels_train, cluster_majority_spectral)\n",
    "    \n",
    "    # Train data\n",
    "    accuracy_train_spectral, recall_train_spectral, precision_train_spectral, f1_train_spectral, AUC_train_spectral = spectral_metrics(X_train, y_train, final_label_spectral, spectral_cluster, accuracy_train_spectral, recall_train_spectral, precision_train_spectral, f1_train_spectral, AUC_train_spectral)\n",
    "    \n",
    "    #Test Data\n",
    "    labels_test = spectral_cluster.fit_predict(X_test)\n",
    "    \n",
    "    #Use the Majority pull for test set of cluster\n",
    "    cluster1_label_spectral_test = {}\n",
    "    cluster2_label_spectral_test = {}\n",
    "    \n",
    "    for i in range(len(labels_test)):\n",
    "        \n",
    "        #cluster1 \n",
    "        if labels_test[i] == 0:\n",
    "            number = y_test.index[i] \n",
    "            index_1 = y[number]\n",
    "            if index_1 in cluster1_label_spectral_test.keys():\n",
    "                cluster1_label_spectral_test[index_1] += 1\n",
    "            else:\n",
    "                cluster1_label_spectral_test[index_1] = 1\n",
    "                \n",
    "        #cluster2 \n",
    "        else:\n",
    "            number = y_test.index[i] \n",
    "            index_2 = y[number]\n",
    "            if index_2 in cluster2_label_spectral_test.keys():\n",
    "                cluster2_label_spectral_test[index_2] += 1\n",
    "            else:\n",
    "                cluster2_label_spectral_test[index_2] = 1            \n",
    "    \n",
    "    sorted_cluster1_label_spectral_test = sorted(cluster1_label_spectral_test.items(), key = operator.itemgetter(1), reverse = True)\n",
    "    cluster1_majority_spectral_test = sorted_cluster1_label_spectral_test[0][0]\n",
    "    sorted_cluster2_label_spectral_test = sorted(cluster2_label_spectral_test.items(), key = operator.itemgetter(1), reverse = True)\n",
    "    cluster2_majority_spectral_test = sorted_cluster2_label_spectral_test[0][0]\n",
    "\n",
    "    # record each cluster majority\n",
    "    cluster_majority_spectral_test.append(cluster1_majority_spectral_test)\n",
    "    cluster_majority_spectral_test.append(cluster2_majority_spectral_test)\n",
    "    \n",
    "    # update label after majority pull    \n",
    "    final_label_spectral_test  = change_label(labels_test, cluster_majority_spectral_test)\n",
    "    \n",
    "    accuracy_test_spectral, recall_test_spectral, precision_test_spectral, f1_test_spectral, AUC_test_spectral = spectral_metrics(X_test, y_test, final_label_spectral_test, spectral_cluster, accuracy_test_spectral, recall_test_spectral, precision_test_spectral, f1_test_spectral, AUC_test_spectral)"
   ]
  },
  {
   "cell_type": "markdown",
   "metadata": {},
   "source": [
    "**Training data in Spectral Clustering-Kmeans with 30 times Monte-Carlo Simulation results**"
   ]
  },
  {
   "cell_type": "code",
   "execution_count": 32,
   "metadata": {},
   "outputs": [
    {
     "name": "stdout",
     "output_type": "stream",
     "text": [
      "Average Accuracy: 0.9\n",
      "Average Recall: 0.817\n",
      "Average Precision: 0.905\n",
      "Average F1 score: 0.859\n",
      "Average AUC score: 0.94\n"
     ]
    }
   ],
   "source": [
    "# print the Train results\n",
    "\n",
    "print('Average Accuracy:', round(np.mean(accuracy_train_spectral),3))\n",
    "print('Average Recall:', round(np.mean(recall_train_spectral),3))\n",
    "print('Average Precision:', round(np.mean(precision_train_spectral),3))\n",
    "print('Average F1 score:', round(np.mean(f1_train_spectral),3))\n",
    "print('Average AUC score:', round(np.mean(AUC_train_spectral),3))"
   ]
  },
  {
   "cell_type": "markdown",
   "metadata": {},
   "source": [
    "**Training results in 1 Monte-Carlo Simulation run**"
   ]
  },
  {
   "cell_type": "code",
   "execution_count": 33,
   "metadata": {},
   "outputs": [
    {
     "data": {
      "image/png": "[encoded data removed]",
      "text/plain": [
       "<Figure size 432x288 with 1 Axes>"
      ]
     },
     "metadata": {
      "needs_background": "light"
     },
     "output_type": "display_data"
    },
    {
     "name": "stdout",
     "output_type": "stream",
     "text": [
      "AUC_score of Train set for Spectral Clustering- Kmeans :  0.9489255683587667\n"
     ]
    }
   ],
   "source": [
    "# Plot ROC Curve\n",
    "clf = GaussianMixture(n_components = 2, covariance_type = 'spherical', random_state = 1).fit(X_train)\n",
    "pred_proba_spectral_train = clf.predict_proba(X_train)[::,1]\n",
    "f_pos, t_pos, thresholds = roc_curve(y_train, pred_proba_spectral_train)\n",
    "\n",
    "#plt_roc_curve(fper, tper)\n",
    "def plot_roc_curve(f_pos, t_pos):\n",
    "    plt.plot(f_pos, t_pos, color='red', label='ROC')\n",
    "    plt.plot([0, 1], [0, 1], color='green', linestyle='--')\n",
    "    plt.xlabel('False Positive Rate')\n",
    "    plt.ylabel('True Positive Rate')\n",
    "    plt.title('Receiver Operating Characteristic Curve')\n",
    "    plt.legend()\n",
    "    plt.show()\n",
    "    \n",
    "plot_roc_curve(f_pos, t_pos)\n",
    "print('AUC_score of Train set for Spectral Clustering- Kmeans : ', roc_auc_score(y_train, pred_proba_spectral_train))"
   ]
  },
  {
   "cell_type": "code",
   "execution_count": 34,
   "metadata": {},
   "outputs": [
    {
     "data": {
      "text/html": [
       "<div>\n",
       "<style scoped>\n",
       "    .dataframe tbody tr th:only-of-type {\n",
       "        vertical-align: middle;\n",
       "    }\n",
       "\n",
       "    .dataframe tbody tr th {\n",
       "        vertical-align: top;\n",
       "    }\n",
       "\n",
       "    .dataframe thead th {\n",
       "        text-align: right;\n",
       "    }\n",
       "</style>\n",
       "<table border=\"1\" class=\"dataframe\">\n",
       "  <thead>\n",
       "    <tr style=\"text-align: right;\">\n",
       "      <th>col_0</th>\n",
       "      <th>0</th>\n",
       "      <th>1</th>\n",
       "    </tr>\n",
       "    <tr>\n",
       "      <th>class</th>\n",
       "      <th></th>\n",
       "      <th></th>\n",
       "    </tr>\n",
       "  </thead>\n",
       "  <tbody>\n",
       "    <tr>\n",
       "      <th>0.0</th>\n",
       "      <td>271</td>\n",
       "      <td>14</td>\n",
       "    </tr>\n",
       "    <tr>\n",
       "      <th>1.0</th>\n",
       "      <td>32</td>\n",
       "      <td>137</td>\n",
       "    </tr>\n",
       "  </tbody>\n",
       "</table>\n",
       "</div>"
      ],
      "text/plain": [
       "col_0    0    1\n",
       "class          \n",
       "0.0    271   14\n",
       "1.0     32  137"
      ]
     },
     "execution_count": 34,
     "metadata": {},
     "output_type": "execute_result"
    }
   ],
   "source": [
    "# Confusion Matrix\n",
    "# label 0 = Benign=B,  \n",
    "# label 1 = Malignant=M\n",
    "pd.crosstab(y_train, final_label_spectral)"
   ]
  },
  {
   "cell_type": "markdown",
   "metadata": {},
   "source": [
    "**Testing data in Spectral Clustering- Kmeans with 30 times Monte-Carlo Simulation results**"
   ]
  },
  {
   "cell_type": "code",
   "execution_count": 35,
   "metadata": {},
   "outputs": [
    {
     "name": "stdout",
     "output_type": "stream",
     "text": [
      "Average Accuracy: 0.896\n",
      "Average Recall: 0.813\n",
      "Average Precision: 0.902\n",
      "Average F1 score: 0.853\n",
      "Average AUC score: 0.934\n"
     ]
    }
   ],
   "source": [
    "# print the Test results\n",
    "\n",
    "print('Average Accuracy:', round(np.mean(accuracy_test_spectral),3))\n",
    "print('Average Recall:', round(np.mean(recall_test_spectral),3))\n",
    "print('Average Precision:', round(np.mean(precision_test_spectral),3))\n",
    "print('Average F1 score:', round(np.mean(f1_test_spectral),3))\n",
    "print('Average AUC score:', round(np.mean(AUC_test_spectral),3))"
   ]
  },
  {
   "cell_type": "markdown",
   "metadata": {},
   "source": [
    "**Testing results in 1 Monte-Carlo Simulation run**"
   ]
  },
  {
   "cell_type": "code",
   "execution_count": 36,
   "metadata": {},
   "outputs": [
    {
     "data": {
      "image/png": "[encoded data removed]",
      "text/plain": [
       "<Figure size 432x288 with 1 Axes>"
      ]
     },
     "metadata": {
      "needs_background": "light"
     },
     "output_type": "display_data"
    },
    {
     "name": "stdout",
     "output_type": "stream",
     "text": [
      "AUC_score of Test set for Spectral Clustering- Kmeans  :  0.9320090439276485\n"
     ]
    }
   ],
   "source": [
    "# Plot ROC Curve \n",
    "pred_proba_spectral_test = clf.predict_proba(X_test)[::,1]\n",
    "f_pos, t_pos, thresholds = roc_curve(y_test, pred_proba_spectral_test)\n",
    "\n",
    "#plt_roc_curve(fper, tper)\n",
    "def plot_roc_curve(f_pos, t_pos):\n",
    "    plt.plot(f_pos, t_pos, color='red', label='ROC')\n",
    "    plt.plot([0, 1], [0, 1], color='green', linestyle='--')\n",
    "    plt.xlabel('False Positive Rate')\n",
    "    plt.ylabel('True Positive Rate')\n",
    "    plt.title('Receiver Operating Characteristic Curve')\n",
    "    plt.legend()\n",
    "    plt.show()\n",
    "    \n",
    "plot_roc_curve(f_pos, t_pos)\n",
    "print('AUC_score of Test set for Spectral Clustering- Kmeans  : ', roc_auc_score(y_test, pred_proba_spectral_test))"
   ]
  },
  {
   "cell_type": "code",
   "execution_count": 37,
   "metadata": {},
   "outputs": [
    {
     "data": {
      "text/html": [
       "<div>\n",
       "<style scoped>\n",
       "    .dataframe tbody tr th:only-of-type {\n",
       "        vertical-align: middle;\n",
       "    }\n",
       "\n",
       "    .dataframe tbody tr th {\n",
       "        vertical-align: top;\n",
       "    }\n",
       "\n",
       "    .dataframe thead th {\n",
       "        text-align: right;\n",
       "    }\n",
       "</style>\n",
       "<table border=\"1\" class=\"dataframe\">\n",
       "  <thead>\n",
       "    <tr style=\"text-align: right;\">\n",
       "      <th>col_0</th>\n",
       "      <th>0</th>\n",
       "      <th>1</th>\n",
       "    </tr>\n",
       "    <tr>\n",
       "      <th>class</th>\n",
       "      <th></th>\n",
       "      <th></th>\n",
       "    </tr>\n",
       "  </thead>\n",
       "  <tbody>\n",
       "    <tr>\n",
       "      <th>0.0</th>\n",
       "      <td>68</td>\n",
       "      <td>4</td>\n",
       "    </tr>\n",
       "    <tr>\n",
       "      <th>1.0</th>\n",
       "      <td>7</td>\n",
       "      <td>36</td>\n",
       "    </tr>\n",
       "  </tbody>\n",
       "</table>\n",
       "</div>"
      ],
      "text/plain": [
       "col_0   0   1\n",
       "class        \n",
       "0.0    68   4\n",
       "1.0     7  36"
      ]
     },
     "execution_count": 37,
     "metadata": {},
     "output_type": "execute_result"
    }
   ],
   "source": [
    "# Confusion Matrix\n",
    "# label 0 = Benign=B,  \n",
    "# label 1 = Malignant=M\n",
    "pd.crosstab(y_test, final_label_spectral_test)"
   ]
  },
  {
   "cell_type": "markdown",
   "metadata": {},
   "source": [
    "### 1-(b)-(v)  One can expect that supervised learning on the full data set works better than semi-supervised learning with half of the data set labeled.One can expect that unsupervised learning underperforms in such situations. Compare the results you obtained by those methods."
   ]
  },
  {
   "cell_type": "markdown",
   "metadata": {},
   "source": [
    "**According to the average scores of accuracy, precision, recall, F1-score and AUC in supervised learning on the full data set works better than semi-supervised learning and unsupervised learning. All test metrics in supervised learning are 90% above; In semi-supervised learning, some test metrics like Recall and Precision drop to below 90%; In Unsupervised learning with K-means k=2 are slightly less than semi-supervised Learning.**"
   ]
  },
  {
   "cell_type": "markdown",
   "metadata": {},
   "source": [
    "## 2. Active Learning Using Support Vector Machines\n",
    "### 2-(a) Download the banknote authentication Data Set from: https://archive.ics.uci.edu/ml/datasets/banknote+authentication. Choose 472 data points randomly as the test set, and the remaining 900 points as the training set. This is a binary classification problem."
   ]
  },
  {
   "cell_type": "code",
   "execution_count": 38,
   "metadata": {},
   "outputs": [],
   "source": [
    "import numpy as np, pandas as pd \n",
    "data = pd.read_table('../data/data_banknote_authentication.txt', sep=',', header = None)"
   ]
  },
  {
   "cell_type": "code",
   "execution_count": 39,
   "metadata": {},
   "outputs": [],
   "source": [
    "from sklearn.model_selection import train_test_split\n",
    "\n",
    "# Randomly get the train set and test set,\n",
    "train_set, test_set = train_test_split(data, train_size = 900)\n",
    "\n",
    "#Separate X_test, y_test\n",
    "X_test = test_set.iloc[:,:4]\n",
    "y_test = test_set.iloc[:, 4]"
   ]
  },
  {
   "cell_type": "markdown",
   "metadata": {},
   "source": [
    "### 2-(b) Repeat each of the following two procedures 50 times. You will have 50 errors for 90 SVMs per each procedure.\n",
    "\n",
    "### 2-(b)-(i) Train a SVM with a pool of 10 randomly selected data points from the training set using linear kernel and L1 penalty. Select the penalty parameter using 5-fold cross validation. Repeat this process by adding 10 other randomly selected data points to the pool, until you use all the 900 points. Do NOT replace the samples back into the training set at each step. Calculate the test error for each SVM. You will have 90 SVMs that were trained using 10, 20, 30, ... , 900 data points and their 90 test errors. You have implemented passive learning."
   ]
  },
  {
   "cell_type": "code",
   "execution_count": 40,
   "metadata": {},
   "outputs": [],
   "source": [
    "import warnings\n",
    "warnings.filterwarnings(\"ignore\")\n",
    "from sklearn.svm import LinearSVC\n",
    "from sklearn.model_selection import GridSearchCV, StratifiedKFold\n",
    "\n",
    "L1_SVM = LinearSVC(penalty = 'l1', dual = False,  tol = 0.1)\n",
    "C_range = np.logspace(-1, 4, 8)\n",
    "L1_params = {'C':C_range}\n",
    "L1_grid = GridSearchCV(L1_SVM, L1_params, cv = StratifiedKFold(5, shuffle = True))"
   ]
  },
  {
   "cell_type": "code",
   "execution_count": 41,
   "metadata": {},
   "outputs": [],
   "source": [
    "MonteCarlo_passive = {}\n",
    "\n",
    "# Run Passive learning MonteCarlo 50 times\n",
    "for t in range(50):\n",
    "    passive_test_error = []\n",
    "    # Randomly get the train set and test set,\n",
    "    train_set, test_set = train_test_split(data, train_size = 900, random_state = t)\n",
    "    X_train = y_train = X_add = y_add = pd.DataFrame()\n",
    "    \n",
    "    # Separate train data into 90 data points\n",
    "    for i in range(90):\n",
    "        \n",
    "        if len(train_set) > 10:\n",
    "            add_data, _ = train_test_split(train_set, train_size = 10, random_state = t)\n",
    "        else:\n",
    "            add_data = train_set\n",
    "        \n",
    "        X_add = add_data.iloc[:, :4]\n",
    "        y_add = add_data.iloc[:, 4]\n",
    "        \n",
    "        #Remove add_data from train_data and add data to X_train\n",
    "        train_set = train_set.drop(index = add_data.index)\n",
    "        \n",
    "        X_add = add_data.iloc[:, :4]\n",
    "        y_add = add_data.iloc[:, 4]\n",
    "        X_train = pd.concat([X_train, X_add])\n",
    "        y_train = pd.concat([y_train, y_add])\n",
    "\n",
    "        #Construct the model\n",
    "        L1_SVM = L1_grid.fit(X_train, y_train.values.ravel())\n",
    "        test_error = 1 - L1_SVM.score(X_test, y_test)\n",
    "        passive_test_error.append(test_error)\n",
    "    \n",
    "    MonteCarlo_passive[t] = passive_test_error"
   ]
  },
  {
   "cell_type": "code",
   "execution_count": 42,
   "metadata": {},
   "outputs": [
    {
     "data": {
      "text/html": [
       "<div>\n",
       "<style scoped>\n",
       "    .dataframe tbody tr th:only-of-type {\n",
       "        vertical-align: middle;\n",
       "    }\n",
       "\n",
       "    .dataframe tbody tr th {\n",
       "        vertical-align: top;\n",
       "    }\n",
       "\n",
       "    .dataframe thead th {\n",
       "        text-align: right;\n",
       "    }\n",
       "</style>\n",
       "<table border=\"1\" class=\"dataframe\">\n",
       "  <thead>\n",
       "    <tr style=\"text-align: right;\">\n",
       "      <th></th>\n",
       "      <th>Monte-Carlo Simulation Times</th>\n",
       "      <th>SVM_model_Passive</th>\n",
       "      <th>Test Error</th>\n",
       "    </tr>\n",
       "  </thead>\n",
       "  <tbody>\n",
       "    <tr>\n",
       "      <th>0</th>\n",
       "      <td>1</td>\n",
       "      <td>SVM_Model_Passive_1</td>\n",
       "      <td>0.316</td>\n",
       "    </tr>\n",
       "    <tr>\n",
       "      <th>1</th>\n",
       "      <td>1</td>\n",
       "      <td>SVM_Model_Passive_2</td>\n",
       "      <td>0.053</td>\n",
       "    </tr>\n",
       "    <tr>\n",
       "      <th>2</th>\n",
       "      <td>1</td>\n",
       "      <td>SVM_Model_Passive_3</td>\n",
       "      <td>0.021</td>\n",
       "    </tr>\n",
       "    <tr>\n",
       "      <th>3</th>\n",
       "      <td>1</td>\n",
       "      <td>SVM_Model_Passive_4</td>\n",
       "      <td>0.023</td>\n",
       "    </tr>\n",
       "    <tr>\n",
       "      <th>4</th>\n",
       "      <td>1</td>\n",
       "      <td>SVM_Model_Passive_5</td>\n",
       "      <td>0.021</td>\n",
       "    </tr>\n",
       "    <tr>\n",
       "      <th>...</th>\n",
       "      <td>...</td>\n",
       "      <td>...</td>\n",
       "      <td>...</td>\n",
       "    </tr>\n",
       "    <tr>\n",
       "      <th>4495</th>\n",
       "      <td>50</td>\n",
       "      <td>SVM_Model_Passive_86</td>\n",
       "      <td>0.025</td>\n",
       "    </tr>\n",
       "    <tr>\n",
       "      <th>4496</th>\n",
       "      <td>50</td>\n",
       "      <td>SVM_Model_Passive_87</td>\n",
       "      <td>0.023</td>\n",
       "    </tr>\n",
       "    <tr>\n",
       "      <th>4497</th>\n",
       "      <td>50</td>\n",
       "      <td>SVM_Model_Passive_88</td>\n",
       "      <td>0.023</td>\n",
       "    </tr>\n",
       "    <tr>\n",
       "      <th>4498</th>\n",
       "      <td>50</td>\n",
       "      <td>SVM_Model_Passive_89</td>\n",
       "      <td>0.023</td>\n",
       "    </tr>\n",
       "    <tr>\n",
       "      <th>4499</th>\n",
       "      <td>50</td>\n",
       "      <td>SVM_Model_Passive_90</td>\n",
       "      <td>0.023</td>\n",
       "    </tr>\n",
       "  </tbody>\n",
       "</table>\n",
       "<p>4500 rows × 3 columns</p>\n",
       "</div>"
      ],
      "text/plain": [
       "     Monte-Carlo Simulation Times     SVM_model_Passive Test Error\n",
       "0                               1   SVM_Model_Passive_1      0.316\n",
       "1                               1   SVM_Model_Passive_2      0.053\n",
       "2                               1   SVM_Model_Passive_3      0.021\n",
       "3                               1   SVM_Model_Passive_4      0.023\n",
       "4                               1   SVM_Model_Passive_5      0.021\n",
       "...                           ...                   ...        ...\n",
       "4495                           50  SVM_Model_Passive_86      0.025\n",
       "4496                           50  SVM_Model_Passive_87      0.023\n",
       "4497                           50  SVM_Model_Passive_88      0.023\n",
       "4498                           50  SVM_Model_Passive_89      0.023\n",
       "4499                           50  SVM_Model_Passive_90      0.023\n",
       "\n",
       "[4500 rows x 3 columns]"
      ]
     },
     "execution_count": 42,
     "metadata": {},
     "output_type": "execute_result"
    }
   ],
   "source": [
    "#50 Times of Passive learning Simulation of SVM model\n",
    "times = [] \n",
    "SVM_model_passive = []\n",
    "passive_learning = []\n",
    "\n",
    "for t in range(50):\n",
    "    for i in range(1,91):\n",
    "        times.append(int(t + 1))\n",
    "        SVM_model_passive.append('SVM_Model_Passive_' + str(i))\n",
    "        \n",
    "    passive_test_error = MonteCarlo_passive[t]\n",
    "    for k in passive_test_error:\n",
    "        passive_learning.append(round(k,3))\n",
    "\n",
    "Monte_Carlo_table_Passive =pd.DataFrame(np.column_stack([times, SVM_model_passive, passive_learning]))\n",
    "Monte_Carlo_table_Passive = Monte_Carlo_table_Passive.rename(columns={0: 'Monte-Carlo Simulation Times', 1: 'SVM_model_Passive',\n",
    "                                                     2: 'Test Error'})\n",
    "Monte_Carlo_table_Passive"
   ]
  },
  {
   "cell_type": "markdown",
   "metadata": {},
   "source": [
    "### 2-(b)-(ii) Train a SVM with a pool of 10 randomly selected data points from the training set using linear kernel and L1 penalty. Select the parameters of the SVM with 5-fold cross validation. Choose the 10 closest data points in the training set to the hyperplane of the SVM and add them to the pool. Do not replace the samples back into the training set. Train a new SVM using the pool. Repeat this process until all training data is used. You will have 90 SVMs that were trained using 10, 20, 30,..., 900 data points and their 90 test errors. You have implemented active learning."
   ]
  },
  {
   "cell_type": "code",
   "execution_count": 43,
   "metadata": {},
   "outputs": [],
   "source": [
    "MonteCarlo_active = {}\n",
    "\n",
    "L1_SVM = LinearSVC(penalty = 'l1', dual = False,  tol = 0.1)\n",
    "C_range = np.logspace(-1, 4, 8)\n",
    "L1_params = {'C':C_range}\n",
    "L1_grid = GridSearchCV(L1_SVM, L1_params, cv = StratifiedKFold(5, shuffle = True))\n",
    "\n",
    "# Run Active learning MonteCarlo 50 times\n",
    "for t in range(50):\n",
    "    active_learning_error = []\n",
    "    train_set, test_set = train_test_split(data, train_size = 900, random_state = t)\n",
    "    pool_set, _ = train_test_split(train_set, train_size = 10, random_state = t)\n",
    "    X_pool = pool_set.iloc[:, :4]\n",
    "    y_pool = pool_set.iloc[:, 4]\n",
    "    \n",
    "    L1_SVM = L1_grid.fit(X_pool, y_pool)\n",
    "    test_error = 1 - L1_SVM.score(X_test, y_test)\n",
    "    active_learning_error.append(test_error)\n",
    "    \n",
    "    # Separate train data into data points\n",
    "    for i in range(89):\n",
    "        X_train = train_set.iloc[:, :4]\n",
    "        y_train = train_set.iloc[:, 4]\n",
    "        \n",
    "        #Calculate distance from unlabeled data points to decision boundary\n",
    "        distances = L1_SVM.decision_function(X_train)\n",
    "\n",
    "        #Sort by the absolute value of score\n",
    "        sorted_index = sorted([i for i in range(len(X_train))], key = lambda x : abs(distances[x]), reverse = False)\n",
    "        closest_point = sorted_index[0:10]\n",
    "        closest_X = pd.DataFrame(X_train.iloc[closest_point,:])\n",
    "        closest_y = pd.Series(y_train.iloc[closest_point])\n",
    "        \n",
    "        #Remove the closest point from unlabeled and add it to labeled\n",
    "        train_set = train_set.drop(index = closest_X.index)\n",
    "        X_pool = pd.concat([X_pool, closest_X])\n",
    "        y_pool = pd.concat([y_pool, closest_y])\n",
    "        \n",
    "        #Refit the SVC\n",
    "        L1_SVM = L1_grid.fit(X_pool, y_pool)\n",
    "        test_error = 1 - L1_SVM.score(X_test, y_test)\n",
    "        active_learning_error.append(test_error)\n",
    "        \n",
    "    MonteCarlo_active[t] =  active_learning_error"
   ]
  },
  {
   "cell_type": "code",
   "execution_count": 44,
   "metadata": {},
   "outputs": [
    {
     "data": {
      "text/html": [
       "<div>\n",
       "<style scoped>\n",
       "    .dataframe tbody tr th:only-of-type {\n",
       "        vertical-align: middle;\n",
       "    }\n",
       "\n",
       "    .dataframe tbody tr th {\n",
       "        vertical-align: top;\n",
       "    }\n",
       "\n",
       "    .dataframe thead th {\n",
       "        text-align: right;\n",
       "    }\n",
       "</style>\n",
       "<table border=\"1\" class=\"dataframe\">\n",
       "  <thead>\n",
       "    <tr style=\"text-align: right;\">\n",
       "      <th></th>\n",
       "      <th>Monte-Carlo Simulation Times</th>\n",
       "      <th>SVM_model_Active</th>\n",
       "      <th>Test Error</th>\n",
       "    </tr>\n",
       "  </thead>\n",
       "  <tbody>\n",
       "    <tr>\n",
       "      <th>0</th>\n",
       "      <td>1</td>\n",
       "      <td>SVM_Model_Active_1</td>\n",
       "      <td>0.314</td>\n",
       "    </tr>\n",
       "    <tr>\n",
       "      <th>1</th>\n",
       "      <td>1</td>\n",
       "      <td>SVM_Model_Active_2</td>\n",
       "      <td>0.023</td>\n",
       "    </tr>\n",
       "    <tr>\n",
       "      <th>2</th>\n",
       "      <td>1</td>\n",
       "      <td>SVM_Model_Active_3</td>\n",
       "      <td>0.019</td>\n",
       "    </tr>\n",
       "    <tr>\n",
       "      <th>3</th>\n",
       "      <td>1</td>\n",
       "      <td>SVM_Model_Active_4</td>\n",
       "      <td>0.013</td>\n",
       "    </tr>\n",
       "    <tr>\n",
       "      <th>4</th>\n",
       "      <td>1</td>\n",
       "      <td>SVM_Model_Active_5</td>\n",
       "      <td>0.053</td>\n",
       "    </tr>\n",
       "    <tr>\n",
       "      <th>...</th>\n",
       "      <td>...</td>\n",
       "      <td>...</td>\n",
       "      <td>...</td>\n",
       "    </tr>\n",
       "    <tr>\n",
       "      <th>4495</th>\n",
       "      <td>50</td>\n",
       "      <td>SVM_Model_Active_86</td>\n",
       "      <td>0.023</td>\n",
       "    </tr>\n",
       "    <tr>\n",
       "      <th>4496</th>\n",
       "      <td>50</td>\n",
       "      <td>SVM_Model_Active_87</td>\n",
       "      <td>0.023</td>\n",
       "    </tr>\n",
       "    <tr>\n",
       "      <th>4497</th>\n",
       "      <td>50</td>\n",
       "      <td>SVM_Model_Active_88</td>\n",
       "      <td>0.025</td>\n",
       "    </tr>\n",
       "    <tr>\n",
       "      <th>4498</th>\n",
       "      <td>50</td>\n",
       "      <td>SVM_Model_Active_89</td>\n",
       "      <td>0.023</td>\n",
       "    </tr>\n",
       "    <tr>\n",
       "      <th>4499</th>\n",
       "      <td>50</td>\n",
       "      <td>SVM_Model_Active_90</td>\n",
       "      <td>0.023</td>\n",
       "    </tr>\n",
       "  </tbody>\n",
       "</table>\n",
       "<p>4500 rows × 3 columns</p>\n",
       "</div>"
      ],
      "text/plain": [
       "     Monte-Carlo Simulation Times     SVM_model_Active Test Error\n",
       "0                               1   SVM_Model_Active_1      0.314\n",
       "1                               1   SVM_Model_Active_2      0.023\n",
       "2                               1   SVM_Model_Active_3      0.019\n",
       "3                               1   SVM_Model_Active_4      0.013\n",
       "4                               1   SVM_Model_Active_5      0.053\n",
       "...                           ...                  ...        ...\n",
       "4495                           50  SVM_Model_Active_86      0.023\n",
       "4496                           50  SVM_Model_Active_87      0.023\n",
       "4497                           50  SVM_Model_Active_88      0.025\n",
       "4498                           50  SVM_Model_Active_89      0.023\n",
       "4499                           50  SVM_Model_Active_90      0.023\n",
       "\n",
       "[4500 rows x 3 columns]"
      ]
     },
     "execution_count": 44,
     "metadata": {},
     "output_type": "execute_result"
    }
   ],
   "source": [
    "#50 Times of Active learning Simulation of SVM model\n",
    "\n",
    "times = [] \n",
    "SVM_model_active = []\n",
    "active_learning = []\n",
    "\n",
    "for t in range(50):\n",
    "    for i in range(1,91):\n",
    "        times.append(int(t + 1))\n",
    "        SVM_model_active.append('SVM_Model_Active_' + str(i))\n",
    "\n",
    "    active_test_error = MonteCarlo_active[t]\n",
    "    for k in active_test_error:\n",
    "        active_learning.append(round(k,3))\n",
    "        \n",
    "Monte_Carlo_table_active = pd.DataFrame(np.column_stack([times, SVM_model_active, active_learning]))\n",
    "Monte_Carlo_table_active = Monte_Carlo_table_active.rename(columns={0: 'Monte-Carlo Simulation Times', 1: 'SVM_model_Active',\n",
    "                                                     2: 'Test Error'})\n",
    "Monte_Carlo_table_active"
   ]
  },
  {
   "cell_type": "markdown",
   "metadata": {},
   "source": [
    "### 2-(c) Average the 50 test errors for each of the incrementally trained 90 SVMs in 2(b)-(i) and 2(b)-(ii). By doing so, you are performing a Monte Carlo simulation. Plot average test error versus number of training instances for both active and passive learners on the same \f",
    "gure and report your conclusions. Here, you are actually obtaining a learning curve by Monte-Carlo simulation."
   ]
  },
  {
   "cell_type": "code",
   "execution_count": 45,
   "metadata": {},
   "outputs": [],
   "source": [
    "#Construct average test error of passive learning in 90 SVM models\n",
    "passive_error = []\n",
    "MonteCarlo_passive_learning = pd.DataFrame(MonteCarlo_passive)\n",
    "for idx in MonteCarlo_passive_learning.index:\n",
    "    passive_error.append(round(np.mean(MonteCarlo_passive_learning.iloc[idx]),3))"
   ]
  },
  {
   "cell_type": "code",
   "execution_count": 46,
   "metadata": {},
   "outputs": [],
   "source": [
    "#Construct average test error of active learning in 90 SVM models\n",
    "active_error = []\n",
    "MonteCarlo_active_learning = pd.DataFrame(MonteCarlo_active)\n",
    "for idx in MonteCarlo_active_learning.index:\n",
    "    active_error.append(round(np.mean(MonteCarlo_active_learning.iloc[idx]),3))"
   ]
  },
  {
   "cell_type": "code",
   "execution_count": 47,
   "metadata": {},
   "outputs": [
    {
     "data": {
      "text/html": [
       "<div>\n",
       "<style scoped>\n",
       "    .dataframe tbody tr th:only-of-type {\n",
       "        vertical-align: middle;\n",
       "    }\n",
       "\n",
       "    .dataframe tbody tr th {\n",
       "        vertical-align: top;\n",
       "    }\n",
       "\n",
       "    .dataframe thead th {\n",
       "        text-align: right;\n",
       "    }\n",
       "</style>\n",
       "<table border=\"1\" class=\"dataframe\">\n",
       "  <thead>\n",
       "    <tr style=\"text-align: right;\">\n",
       "      <th></th>\n",
       "      <th>SVM Model</th>\n",
       "      <th>Passive Error</th>\n",
       "      <th>Active Error</th>\n",
       "    </tr>\n",
       "  </thead>\n",
       "  <tbody>\n",
       "    <tr>\n",
       "      <th>0</th>\n",
       "      <td>SVM_Model_1</td>\n",
       "      <td>0.114</td>\n",
       "      <td>0.115</td>\n",
       "    </tr>\n",
       "    <tr>\n",
       "      <th>1</th>\n",
       "      <td>SVM_Model_2</td>\n",
       "      <td>0.073</td>\n",
       "      <td>0.071</td>\n",
       "    </tr>\n",
       "    <tr>\n",
       "      <th>2</th>\n",
       "      <td>SVM_Model_3</td>\n",
       "      <td>0.051</td>\n",
       "      <td>0.032</td>\n",
       "    </tr>\n",
       "    <tr>\n",
       "      <th>3</th>\n",
       "      <td>SVM_Model_4</td>\n",
       "      <td>0.035</td>\n",
       "      <td>0.022</td>\n",
       "    </tr>\n",
       "    <tr>\n",
       "      <th>4</th>\n",
       "      <td>SVM_Model_5</td>\n",
       "      <td>0.033</td>\n",
       "      <td>0.017</td>\n",
       "    </tr>\n",
       "    <tr>\n",
       "      <th>...</th>\n",
       "      <td>...</td>\n",
       "      <td>...</td>\n",
       "      <td>...</td>\n",
       "    </tr>\n",
       "    <tr>\n",
       "      <th>85</th>\n",
       "      <td>SVM_Model_86</td>\n",
       "      <td>0.024</td>\n",
       "      <td>0.024</td>\n",
       "    </tr>\n",
       "    <tr>\n",
       "      <th>86</th>\n",
       "      <td>SVM_Model_87</td>\n",
       "      <td>0.024</td>\n",
       "      <td>0.024</td>\n",
       "    </tr>\n",
       "    <tr>\n",
       "      <th>87</th>\n",
       "      <td>SVM_Model_88</td>\n",
       "      <td>0.024</td>\n",
       "      <td>0.024</td>\n",
       "    </tr>\n",
       "    <tr>\n",
       "      <th>88</th>\n",
       "      <td>SVM_Model_89</td>\n",
       "      <td>0.024</td>\n",
       "      <td>0.024</td>\n",
       "    </tr>\n",
       "    <tr>\n",
       "      <th>89</th>\n",
       "      <td>SVM_Model_90</td>\n",
       "      <td>0.024</td>\n",
       "      <td>0.025</td>\n",
       "    </tr>\n",
       "  </tbody>\n",
       "</table>\n",
       "<p>90 rows × 3 columns</p>\n",
       "</div>"
      ],
      "text/plain": [
       "       SVM Model Passive Error Active Error\n",
       "0    SVM_Model_1         0.114        0.115\n",
       "1    SVM_Model_2         0.073        0.071\n",
       "2    SVM_Model_3         0.051        0.032\n",
       "3    SVM_Model_4         0.035        0.022\n",
       "4    SVM_Model_5         0.033        0.017\n",
       "..           ...           ...          ...\n",
       "85  SVM_Model_86         0.024        0.024\n",
       "86  SVM_Model_87         0.024        0.024\n",
       "87  SVM_Model_88         0.024        0.024\n",
       "88  SVM_Model_89         0.024        0.024\n",
       "89  SVM_Model_90         0.024        0.025\n",
       "\n",
       "[90 rows x 3 columns]"
      ]
     },
     "execution_count": 47,
     "metadata": {},
     "output_type": "execute_result"
    }
   ],
   "source": [
    "SVM_model = []\n",
    "\n",
    "for i in range(1, 91):\n",
    "    SVM_model.append('SVM_Model_' + str(i))\n",
    "\n",
    "Monte_Carlo_table_overall = pd.DataFrame(np.column_stack([SVM_model, passive_error, active_error]))\n",
    "Monte_Carlo_table_overall = Monte_Carlo_table_overall.rename(columns={0: 'SVM Model', 1: 'Passive Error',\n",
    "                                                     2: 'Active Error'})\n",
    "Monte_Carlo_table_overall"
   ]
  },
  {
   "cell_type": "code",
   "execution_count": 48,
   "metadata": {},
   "outputs": [
    {
     "data": {
      "text/plain": [
       "<matplotlib.legend.Legend at 0x1227ab38fd0>"
      ]
     },
     "execution_count": 48,
     "metadata": {},
     "output_type": "execute_result"
    },
    {
     "data": {
      "image/png": "[encoded data removed]",
      "text/plain": [
       "<Figure size 432x288 with 1 Axes>"
      ]
     },
     "metadata": {
      "needs_background": "light"
     },
     "output_type": "display_data"
    }
   ],
   "source": [
    "#Plot test errors in the passive learning and active learning                  \n",
    "k = [i for i in range(1,91)] \n",
    "\n",
    "import matplotlib.pyplot as plt \n",
    "plt.xlim(0, 90)\n",
    "plt.plot(k, passive_error, label = 'Passive Learning')\n",
    "plt.plot(k, active_error, label = 'Active Learning')\n",
    "plt.xlabel('SVM Model')\n",
    "plt.ylabel('Test Errors') \n",
    "plt.title('Test Errors in the Active Learning and Passive Learning in SVM model')\n",
    "plt.legend()"
   ]
  },
  {
   "cell_type": "markdown",
   "metadata": {},
   "source": [
    "### 3 Reference\n",
    "\n",
    "1. Processing Data\n",
    "https://scikit-learn.org/stable/modules/preprocessing.html\n",
    "\n",
    "2. GaussianMixture \n",
    "https://scikit-learn.org/stable/modules/generated/sklearn.mixture.GaussianMixture.html\n",
    "\n",
    "3. SpectralClustering\n",
    "https://scikit-learn.org/stable/modules/generated/sklearn.cluster.SpectralClustering.html\n",
    "\n",
    "4. Euclidean_distances \n",
    "https://scikit-learn.org/stable/modules/generated/sklearn.metrics.pairwise.euclidean_distances.html\n",
    "\n",
    "5. KMeans\n",
    "https://scikit-learn.org/stable/modules/generated/sklearn.cluster.KMeans.html\n",
    "\n",
    "6. Semi-Supervised Learning \n",
    "https://machinelearningmastery.com/semi-supervised-learning-with-label-propagation/\n",
    "\n",
    "7. Getting distance of each point from decision boundary\n",
    "https://stackoverflow.com/questions/32074239/sklearn-getting-distance-of-each-point-from-decision-boundary\n",
    "\n",
    "8. Avoiding local minima\n",
    "https://stackoverflow.com/questions/43789602/avoiding-local-minima-when-using-kmeans"
   ]
  }
 ],
 "metadata": {
  "kernelspec": {
   "display_name": "Python 3",
   "language": "python",
   "name": "python3"
  },
  "language_info": {
   "codemirror_mode": {
    "name": "ipython",
    "version": 3
   },
   "file_extension": ".py",
   "mimetype": "text/x-python",
   "name": "python",
   "nbconvert_exporter": "python",
   "pygments_lexer": "ipython3",
   "version": "3.8.5"
  }
 },
 "nbformat": 4,
 "nbformat_minor": 4
}
